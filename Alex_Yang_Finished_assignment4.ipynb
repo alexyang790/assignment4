{
  "cells": [
    {
      "cell_type": "markdown",
      "id": "e0c7b14a-e5aa-4abc-b48b-b8a9d20dacac",
      "metadata": {
        "id": "e0c7b14a-e5aa-4abc-b48b-b8a9d20dacac"
      },
      "source": [
        "# Assignment #4: Linear Models and Decision Trees\n",
        "## Foundations of Machine Learning\n",
        "## Do Q1 and one other question.\n",
        "### Advice: Reuse your code and code from lectures, package routine tasks into functions, make plans about how you'll carry out the analysis before jumping into writing code, and work as efficiently as possible"
      ]
    },
    {
      "cell_type": "markdown",
      "id": "95f22300-0180-4ed2-be8f-ed56cf4cd36b",
      "metadata": {
        "id": "95f22300-0180-4ed2-be8f-ed56cf4cd36b"
      },
      "source": [
        "**Q1.** This question is a case study for linear models and decision trees. The data are about car prices. In particular, they include:\n",
        "\n",
        "  - `Price`, `Color`, `Seating_Capacity`\n",
        "  - `Body_Type`: crossover, hatchback, muv, sedan, suv\n",
        "  - `Make`, `Make_Year`: The brand of car and year produced\n",
        "  - `Mileage_Run`: The number of miles on the odometer\n",
        "  - `Fuel_Type`: Diesel or gasoline/petrol\n",
        "  - `Transmission`, `Transmission_Type`:  speeds and automatic/manual\n",
        "\n"
      ]
    },
    {
      "cell_type": "markdown",
      "source": [
        "1. Load cars_hw.csv. These data were really dirty, and I've already cleaned them a significant amount in terms of missing values and other issues, but some issues remain (e.g. outliers, badly scaled variables that require a log or arcsinh transformation). Clean the data however you think is most appropriate."
      ],
      "metadata": {
        "id": "S7mOxYKEmGpf"
      },
      "id": "S7mOxYKEmGpf"
    },
    {
      "cell_type": "code",
      "source": [
        "! git clone https://www.github.com/DS3001/assignment4"
      ],
      "metadata": {
        "colab": {
          "base_uri": "https://localhost:8080/"
        },
        "id": "WICURRCvmmx6",
        "outputId": "adba4c98-e5d8-4fa7-91a6-05d17aebacec"
      },
      "id": "WICURRCvmmx6",
      "execution_count": 64,
      "outputs": [
        {
          "output_type": "stream",
          "name": "stdout",
          "text": [
            "fatal: destination path 'assignment4' already exists and is not an empty directory.\n"
          ]
        }
      ]
    },
    {
      "cell_type": "code",
      "source": [
        "import pandas as pd\n",
        "import numpy as np\n",
        "import seaborn as sns\n",
        "\n",
        "df = pd.read_csv('/content/assignment4/data/cars_hw.csv')\n",
        "df.head()"
      ],
      "metadata": {
        "colab": {
          "base_uri": "https://localhost:8080/",
          "height": 241
        },
        "id": "EwQngYYYmQVw",
        "outputId": "1b1e4003-f7a8-407d-f8a5-3c48f4efbdf4"
      },
      "id": "EwQngYYYmQVw",
      "execution_count": 65,
      "outputs": [
        {
          "output_type": "execute_result",
          "data": {
            "text/plain": [
              "   Unnamed: 0        Make  Make_Year   Color  Body_Type  Mileage_Run  \\\n",
              "0           1  Volkswagen       2017  silver      sedan        44611   \n",
              "1           2     Hyundai       2016     red  crossover        20305   \n",
              "2           3       Honda       2019   white        suv        29540   \n",
              "3           4     Renault       2017  bronze  hatchback        35680   \n",
              "4           5     Hyundai       2017  orange  hatchback        25126   \n",
              "\n",
              "  No_of_Owners  Seating_Capacity Fuel_Type Transmission Transmission_Type  \\\n",
              "0          1st                 5    diesel      7-Speed         Automatic   \n",
              "1          1st                 5    petrol      5-Speed            Manual   \n",
              "2          2nd                 5    petrol      5-Speed            Manual   \n",
              "3          1st                 5    petrol      5-Speed            Manual   \n",
              "4          1st                 5    petrol      5-Speed            Manual   \n",
              "\n",
              "    Price  \n",
              "0  657000  \n",
              "1  682000  \n",
              "2  793000  \n",
              "3  414000  \n",
              "4  515000  "
            ],
            "text/html": [
              "\n",
              "  <div id=\"df-86c53a50-dacd-449a-9d06-17d244c01da6\" class=\"colab-df-container\">\n",
              "    <div>\n",
              "<style scoped>\n",
              "    .dataframe tbody tr th:only-of-type {\n",
              "        vertical-align: middle;\n",
              "    }\n",
              "\n",
              "    .dataframe tbody tr th {\n",
              "        vertical-align: top;\n",
              "    }\n",
              "\n",
              "    .dataframe thead th {\n",
              "        text-align: right;\n",
              "    }\n",
              "</style>\n",
              "<table border=\"1\" class=\"dataframe\">\n",
              "  <thead>\n",
              "    <tr style=\"text-align: right;\">\n",
              "      <th></th>\n",
              "      <th>Unnamed: 0</th>\n",
              "      <th>Make</th>\n",
              "      <th>Make_Year</th>\n",
              "      <th>Color</th>\n",
              "      <th>Body_Type</th>\n",
              "      <th>Mileage_Run</th>\n",
              "      <th>No_of_Owners</th>\n",
              "      <th>Seating_Capacity</th>\n",
              "      <th>Fuel_Type</th>\n",
              "      <th>Transmission</th>\n",
              "      <th>Transmission_Type</th>\n",
              "      <th>Price</th>\n",
              "    </tr>\n",
              "  </thead>\n",
              "  <tbody>\n",
              "    <tr>\n",
              "      <th>0</th>\n",
              "      <td>1</td>\n",
              "      <td>Volkswagen</td>\n",
              "      <td>2017</td>\n",
              "      <td>silver</td>\n",
              "      <td>sedan</td>\n",
              "      <td>44611</td>\n",
              "      <td>1st</td>\n",
              "      <td>5</td>\n",
              "      <td>diesel</td>\n",
              "      <td>7-Speed</td>\n",
              "      <td>Automatic</td>\n",
              "      <td>657000</td>\n",
              "    </tr>\n",
              "    <tr>\n",
              "      <th>1</th>\n",
              "      <td>2</td>\n",
              "      <td>Hyundai</td>\n",
              "      <td>2016</td>\n",
              "      <td>red</td>\n",
              "      <td>crossover</td>\n",
              "      <td>20305</td>\n",
              "      <td>1st</td>\n",
              "      <td>5</td>\n",
              "      <td>petrol</td>\n",
              "      <td>5-Speed</td>\n",
              "      <td>Manual</td>\n",
              "      <td>682000</td>\n",
              "    </tr>\n",
              "    <tr>\n",
              "      <th>2</th>\n",
              "      <td>3</td>\n",
              "      <td>Honda</td>\n",
              "      <td>2019</td>\n",
              "      <td>white</td>\n",
              "      <td>suv</td>\n",
              "      <td>29540</td>\n",
              "      <td>2nd</td>\n",
              "      <td>5</td>\n",
              "      <td>petrol</td>\n",
              "      <td>5-Speed</td>\n",
              "      <td>Manual</td>\n",
              "      <td>793000</td>\n",
              "    </tr>\n",
              "    <tr>\n",
              "      <th>3</th>\n",
              "      <td>4</td>\n",
              "      <td>Renault</td>\n",
              "      <td>2017</td>\n",
              "      <td>bronze</td>\n",
              "      <td>hatchback</td>\n",
              "      <td>35680</td>\n",
              "      <td>1st</td>\n",
              "      <td>5</td>\n",
              "      <td>petrol</td>\n",
              "      <td>5-Speed</td>\n",
              "      <td>Manual</td>\n",
              "      <td>414000</td>\n",
              "    </tr>\n",
              "    <tr>\n",
              "      <th>4</th>\n",
              "      <td>5</td>\n",
              "      <td>Hyundai</td>\n",
              "      <td>2017</td>\n",
              "      <td>orange</td>\n",
              "      <td>hatchback</td>\n",
              "      <td>25126</td>\n",
              "      <td>1st</td>\n",
              "      <td>5</td>\n",
              "      <td>petrol</td>\n",
              "      <td>5-Speed</td>\n",
              "      <td>Manual</td>\n",
              "      <td>515000</td>\n",
              "    </tr>\n",
              "  </tbody>\n",
              "</table>\n",
              "</div>\n",
              "    <div class=\"colab-df-buttons\">\n",
              "\n",
              "  <div class=\"colab-df-container\">\n",
              "    <button class=\"colab-df-convert\" onclick=\"convertToInteractive('df-86c53a50-dacd-449a-9d06-17d244c01da6')\"\n",
              "            title=\"Convert this dataframe to an interactive table.\"\n",
              "            style=\"display:none;\">\n",
              "\n",
              "  <svg xmlns=\"http://www.w3.org/2000/svg\" height=\"24px\" viewBox=\"0 -960 960 960\">\n",
              "    <path d=\"M120-120v-720h720v720H120Zm60-500h600v-160H180v160Zm220 220h160v-160H400v160Zm0 220h160v-160H400v160ZM180-400h160v-160H180v160Zm440 0h160v-160H620v160ZM180-180h160v-160H180v160Zm440 0h160v-160H620v160Z\"/>\n",
              "  </svg>\n",
              "    </button>\n",
              "\n",
              "  <style>\n",
              "    .colab-df-container {\n",
              "      display:flex;\n",
              "      gap: 12px;\n",
              "    }\n",
              "\n",
              "    .colab-df-convert {\n",
              "      background-color: #E8F0FE;\n",
              "      border: none;\n",
              "      border-radius: 50%;\n",
              "      cursor: pointer;\n",
              "      display: none;\n",
              "      fill: #1967D2;\n",
              "      height: 32px;\n",
              "      padding: 0 0 0 0;\n",
              "      width: 32px;\n",
              "    }\n",
              "\n",
              "    .colab-df-convert:hover {\n",
              "      background-color: #E2EBFA;\n",
              "      box-shadow: 0px 1px 2px rgba(60, 64, 67, 0.3), 0px 1px 3px 1px rgba(60, 64, 67, 0.15);\n",
              "      fill: #174EA6;\n",
              "    }\n",
              "\n",
              "    .colab-df-buttons div {\n",
              "      margin-bottom: 4px;\n",
              "    }\n",
              "\n",
              "    [theme=dark] .colab-df-convert {\n",
              "      background-color: #3B4455;\n",
              "      fill: #D2E3FC;\n",
              "    }\n",
              "\n",
              "    [theme=dark] .colab-df-convert:hover {\n",
              "      background-color: #434B5C;\n",
              "      box-shadow: 0px 1px 3px 1px rgba(0, 0, 0, 0.15);\n",
              "      filter: drop-shadow(0px 1px 2px rgba(0, 0, 0, 0.3));\n",
              "      fill: #FFFFFF;\n",
              "    }\n",
              "  </style>\n",
              "\n",
              "    <script>\n",
              "      const buttonEl =\n",
              "        document.querySelector('#df-86c53a50-dacd-449a-9d06-17d244c01da6 button.colab-df-convert');\n",
              "      buttonEl.style.display =\n",
              "        google.colab.kernel.accessAllowed ? 'block' : 'none';\n",
              "\n",
              "      async function convertToInteractive(key) {\n",
              "        const element = document.querySelector('#df-86c53a50-dacd-449a-9d06-17d244c01da6');\n",
              "        const dataTable =\n",
              "          await google.colab.kernel.invokeFunction('convertToInteractive',\n",
              "                                                    [key], {});\n",
              "        if (!dataTable) return;\n",
              "\n",
              "        const docLinkHtml = 'Like what you see? Visit the ' +\n",
              "          '<a target=\"_blank\" href=https://colab.research.google.com/notebooks/data_table.ipynb>data table notebook</a>'\n",
              "          + ' to learn more about interactive tables.';\n",
              "        element.innerHTML = '';\n",
              "        dataTable['output_type'] = 'display_data';\n",
              "        await google.colab.output.renderOutput(dataTable, element);\n",
              "        const docLink = document.createElement('div');\n",
              "        docLink.innerHTML = docLinkHtml;\n",
              "        element.appendChild(docLink);\n",
              "      }\n",
              "    </script>\n",
              "  </div>\n",
              "\n",
              "\n",
              "<div id=\"df-9062f515-213a-4ebe-8db8-f6d7f9436ee2\">\n",
              "  <button class=\"colab-df-quickchart\" onclick=\"quickchart('df-9062f515-213a-4ebe-8db8-f6d7f9436ee2')\"\n",
              "            title=\"Suggest charts\"\n",
              "            style=\"display:none;\">\n",
              "\n",
              "<svg xmlns=\"http://www.w3.org/2000/svg\" height=\"24px\"viewBox=\"0 0 24 24\"\n",
              "     width=\"24px\">\n",
              "    <g>\n",
              "        <path d=\"M19 3H5c-1.1 0-2 .9-2 2v14c0 1.1.9 2 2 2h14c1.1 0 2-.9 2-2V5c0-1.1-.9-2-2-2zM9 17H7v-7h2v7zm4 0h-2V7h2v10zm4 0h-2v-4h2v4z\"/>\n",
              "    </g>\n",
              "</svg>\n",
              "  </button>\n",
              "\n",
              "<style>\n",
              "  .colab-df-quickchart {\n",
              "      --bg-color: #E8F0FE;\n",
              "      --fill-color: #1967D2;\n",
              "      --hover-bg-color: #E2EBFA;\n",
              "      --hover-fill-color: #174EA6;\n",
              "      --disabled-fill-color: #AAA;\n",
              "      --disabled-bg-color: #DDD;\n",
              "  }\n",
              "\n",
              "  [theme=dark] .colab-df-quickchart {\n",
              "      --bg-color: #3B4455;\n",
              "      --fill-color: #D2E3FC;\n",
              "      --hover-bg-color: #434B5C;\n",
              "      --hover-fill-color: #FFFFFF;\n",
              "      --disabled-bg-color: #3B4455;\n",
              "      --disabled-fill-color: #666;\n",
              "  }\n",
              "\n",
              "  .colab-df-quickchart {\n",
              "    background-color: var(--bg-color);\n",
              "    border: none;\n",
              "    border-radius: 50%;\n",
              "    cursor: pointer;\n",
              "    display: none;\n",
              "    fill: var(--fill-color);\n",
              "    height: 32px;\n",
              "    padding: 0;\n",
              "    width: 32px;\n",
              "  }\n",
              "\n",
              "  .colab-df-quickchart:hover {\n",
              "    background-color: var(--hover-bg-color);\n",
              "    box-shadow: 0 1px 2px rgba(60, 64, 67, 0.3), 0 1px 3px 1px rgba(60, 64, 67, 0.15);\n",
              "    fill: var(--button-hover-fill-color);\n",
              "  }\n",
              "\n",
              "  .colab-df-quickchart-complete:disabled,\n",
              "  .colab-df-quickchart-complete:disabled:hover {\n",
              "    background-color: var(--disabled-bg-color);\n",
              "    fill: var(--disabled-fill-color);\n",
              "    box-shadow: none;\n",
              "  }\n",
              "\n",
              "  .colab-df-spinner {\n",
              "    border: 2px solid var(--fill-color);\n",
              "    border-color: transparent;\n",
              "    border-bottom-color: var(--fill-color);\n",
              "    animation:\n",
              "      spin 1s steps(1) infinite;\n",
              "  }\n",
              "\n",
              "  @keyframes spin {\n",
              "    0% {\n",
              "      border-color: transparent;\n",
              "      border-bottom-color: var(--fill-color);\n",
              "      border-left-color: var(--fill-color);\n",
              "    }\n",
              "    20% {\n",
              "      border-color: transparent;\n",
              "      border-left-color: var(--fill-color);\n",
              "      border-top-color: var(--fill-color);\n",
              "    }\n",
              "    30% {\n",
              "      border-color: transparent;\n",
              "      border-left-color: var(--fill-color);\n",
              "      border-top-color: var(--fill-color);\n",
              "      border-right-color: var(--fill-color);\n",
              "    }\n",
              "    40% {\n",
              "      border-color: transparent;\n",
              "      border-right-color: var(--fill-color);\n",
              "      border-top-color: var(--fill-color);\n",
              "    }\n",
              "    60% {\n",
              "      border-color: transparent;\n",
              "      border-right-color: var(--fill-color);\n",
              "    }\n",
              "    80% {\n",
              "      border-color: transparent;\n",
              "      border-right-color: var(--fill-color);\n",
              "      border-bottom-color: var(--fill-color);\n",
              "    }\n",
              "    90% {\n",
              "      border-color: transparent;\n",
              "      border-bottom-color: var(--fill-color);\n",
              "    }\n",
              "  }\n",
              "</style>\n",
              "\n",
              "  <script>\n",
              "    async function quickchart(key) {\n",
              "      const quickchartButtonEl =\n",
              "        document.querySelector('#' + key + ' button');\n",
              "      quickchartButtonEl.disabled = true;  // To prevent multiple clicks.\n",
              "      quickchartButtonEl.classList.add('colab-df-spinner');\n",
              "      try {\n",
              "        const charts = await google.colab.kernel.invokeFunction(\n",
              "            'suggestCharts', [key], {});\n",
              "      } catch (error) {\n",
              "        console.error('Error during call to suggestCharts:', error);\n",
              "      }\n",
              "      quickchartButtonEl.classList.remove('colab-df-spinner');\n",
              "      quickchartButtonEl.classList.add('colab-df-quickchart-complete');\n",
              "    }\n",
              "    (() => {\n",
              "      let quickchartButtonEl =\n",
              "        document.querySelector('#df-9062f515-213a-4ebe-8db8-f6d7f9436ee2 button');\n",
              "      quickchartButtonEl.style.display =\n",
              "        google.colab.kernel.accessAllowed ? 'block' : 'none';\n",
              "    })();\n",
              "  </script>\n",
              "</div>\n",
              "    </div>\n",
              "  </div>\n"
            ]
          },
          "metadata": {},
          "execution_count": 65
        }
      ]
    },
    {
      "cell_type": "code",
      "source": [
        "sns.boxplot(data = df)"
      ],
      "metadata": {
        "colab": {
          "base_uri": "https://localhost:8080/",
          "height": 462
        },
        "id": "Tb3IIJELm5rC",
        "outputId": "1fff70c8-c92c-4641-d4ac-c445990852ab"
      },
      "id": "Tb3IIJELm5rC",
      "execution_count": 66,
      "outputs": [
        {
          "output_type": "execute_result",
          "data": {
            "text/plain": [
              "<Axes: >"
            ]
          },
          "metadata": {},
          "execution_count": 66
        },
        {
          "output_type": "display_data",
          "data": {
            "text/plain": [
              "<Figure size 640x480 with 1 Axes>"
            ],
            "image/png": "[encoded data removed]"
          },
          "metadata": {}
        }
      ]
    },
    {
      "cell_type": "code",
      "source": [
        "#fix price and mileage\n",
        "df['price_ihs'] = np.arcsinh(df['Price'])\n",
        "df['mileage_ihs'] = np.arcsinh(df['Mileage_Run'])\n",
        "df['age'] = max(df['Make_Year']) - df['Make_Year']\n",
        "df_test = df.drop(['Price','Mileage_Run','Make_Year','Unnamed: 0'],axis=1)\n",
        "sns.boxplot(data = df_test)"
      ],
      "metadata": {
        "id": "cg_WgN4_nJyt",
        "colab": {
          "base_uri": "https://localhost:8080/",
          "height": 447
        },
        "outputId": "56c86397-1976-4975-d836-af7cff38e3b5"
      },
      "id": "cg_WgN4_nJyt",
      "execution_count": 67,
      "outputs": [
        {
          "output_type": "execute_result",
          "data": {
            "text/plain": [
              "<Axes: >"
            ]
          },
          "metadata": {},
          "execution_count": 67
        },
        {
          "output_type": "display_data",
          "data": {
            "text/plain": [
              "<Figure size 640x480 with 1 Axes>"
            ],
            "image/png": "[encoded data removed]"
          },
          "metadata": {}
        }
      ]
    },
    {
      "cell_type": "markdown",
      "source": [
        "2. Summarize the Price variable and create a kernel density plot. Use .groupby() and .describe() to summarize prices by brand (Make). Make a grouped kernel density plot by Make. Which car brands are the most expensive? What do prices look like in general?"
      ],
      "metadata": {
        "id": "aPZxBhOBgfaE"
      },
      "id": "aPZxBhOBgfaE"
    },
    {
      "cell_type": "code",
      "source": [
        "df['price_ihs'].groupby(df['Make']).describe()\n",
        "sns.kdeplot(data=df,x='price_ihs',hue='Make')"
      ],
      "metadata": {
        "colab": {
          "base_uri": "https://localhost:8080/",
          "height": 467
        },
        "id": "yc_nMuJyhPvX",
        "outputId": "649541af-7f84-4fbe-c159-34f7a85a8778"
      },
      "id": "yc_nMuJyhPvX",
      "execution_count": 68,
      "outputs": [
        {
          "output_type": "execute_result",
          "data": {
            "text/plain": [
              "<Axes: xlabel='price_ihs', ylabel='Density'>"
            ]
          },
          "metadata": {},
          "execution_count": 68
        },
        {
          "output_type": "display_data",
          "data": {
            "text/plain": [
              "<Figure size 640x480 with 1 Axes>"
            ],
            "image/png": "[encoded data removed]"
          },
          "metadata": {}
        }
      ]
    },
    {
      "cell_type": "markdown",
      "source": [
        "MG Motors cars are the most expensive. In general, the prices for all manufactures has a bell-curve shaped price with a single peak in the middle except for Toyota and Maruti Suzuki."
      ],
      "metadata": {
        "id": "4_ptT2znhvj9"
      },
      "id": "4_ptT2znhvj9"
    },
    {
      "cell_type": "markdown",
      "source": [
        "3. Split the data into an 80% training set and a 20% testing set."
      ],
      "metadata": {
        "id": "O4kg0O8DjxGA"
      },
      "id": "O4kg0O8DjxGA"
    },
    {
      "cell_type": "code",
      "source": [
        "N = df.shape[0]\n",
        "df = df.sample(frac=1, random_state=100) # randomize the order in which data appears\n",
        "train_size = int(.8*N)\n",
        "\n",
        "# How to do the split as needed:\n",
        "df_train = df[0:train_size]\n",
        "y_train = df_train['price_ihs']\n",
        "\n",
        "df_test = df[train_size:]\n",
        "y_test = df_test['price_ihs']"
      ],
      "metadata": {
        "id": "ChZnM3warRKz"
      },
      "id": "ChZnM3warRKz",
      "execution_count": 69,
      "outputs": []
    },
    {
      "cell_type": "code",
      "source": [
        "###question: this didn't work compare to the code in the answer why?\n",
        "\n",
        "#from sklearn.model_selection import train_test_split\n",
        "\n",
        "#y = df['price_ihs']\n",
        "#X = df.drop(['Price', 'Mileage_Run','Make_Year','Unnamed: 0'], axis = 1)\n",
        "#df_train, df_test, y_train, y_test = train_test_split(X, y, test_size=0.2, random_state=42)\n",
        "\n",
        "#print(df_train)"
      ],
      "metadata": {
        "id": "a0HsWNSaj0eJ"
      },
      "id": "a0HsWNSaj0eJ",
      "execution_count": 70,
      "outputs": []
    },
    {
      "cell_type": "markdown",
      "source": [
        "4. Let's focus on linear models.\n",
        "\n",
        "* Make a model where you\n",
        "regress price on the numeric variables alone; what is the\n",
        " and RMSE on the test set?\n",
        "\n",
        "* Make a second model where, for the categorical variables, make a model comprised of one-hot encoded regressors/features alone, and regress price on those variables; what is the\n",
        " and RMSE on the test set?\n",
        "\n",
        "* Which model performs better on the test set?\n",
        "\n",
        "* Make a third model that combines all the regressors from the previous two; what is the\n",
        " and RMSE on the test set?\n",
        "\n",
        "* Does the joint model perform better or worse, and by home much?"
      ],
      "metadata": {
        "id": "AU2SVsOzlksK"
      },
      "id": "AU2SVsOzlksK"
    },
    {
      "cell_type": "code",
      "source": [
        "print(df.dtypes)"
      ],
      "metadata": {
        "colab": {
          "base_uri": "https://localhost:8080/"
        },
        "id": "t1cILcbbmhh1",
        "outputId": "65d44cad-04e8-4ca7-f372-2e5682fc7155"
      },
      "id": "t1cILcbbmhh1",
      "execution_count": 71,
      "outputs": [
        {
          "output_type": "stream",
          "name": "stdout",
          "text": [
            "Unnamed: 0             int64\n",
            "Make                  object\n",
            "Make_Year              int64\n",
            "Color                 object\n",
            "Body_Type             object\n",
            "Mileage_Run            int64\n",
            "No_of_Owners          object\n",
            "Seating_Capacity       int64\n",
            "Fuel_Type             object\n",
            "Transmission          object\n",
            "Transmission_Type     object\n",
            "Price                  int64\n",
            "price_ihs            float64\n",
            "mileage_ihs          float64\n",
            "age                    int64\n",
            "dtype: object\n"
          ]
        }
      ]
    },
    {
      "cell_type": "code",
      "source": [
        "from sklearn import linear_model\n",
        "\n",
        "#regress price on numeric variables alone\n",
        "var_num = ['age','mileage_ihs','Seating_Capacity']\n",
        "X_train_num = df_train.loc[:,var_num]\n",
        "reg_num = linear_model.LinearRegression().fit(X_train_num,y_train)\n",
        "\n",
        "X_test_num = df_test.loc[:, var_num]\n",
        "y_hat = reg_num.predict(X_test_num)\n",
        "\n",
        "print('Numerics only R-squared: ', reg_num.score(X_test_num,y_test))\n",
        "rmse_num = np.sqrt( np.mean( (y_test - y_hat)**2 ))\n",
        "print('Numerics only RMSE: ', rmse_num)"
      ],
      "metadata": {
        "colab": {
          "base_uri": "https://localhost:8080/"
        },
        "id": "ieiRm_cplmcn",
        "outputId": "26977857-4fa6-44e3-e1a4-4928cfd1c002"
      },
      "id": "ieiRm_cplmcn",
      "execution_count": 72,
      "outputs": [
        {
          "output_type": "stream",
          "name": "stdout",
          "text": [
            "Numerics only R-squared:  0.45254262356326824\n",
            "Numerics only RMSE:  0.33392654735906463\n"
          ]
        }
      ]
    },
    {
      "cell_type": "code",
      "source": [
        "#regress price on categorical variables\n",
        "var_cat = ['Make','Body_Type','Color','Fuel_Type','Transmission','Transmission_Type']\n",
        "X_train_c = df_train.loc[:,var_cat]\n",
        "X_test_c = df_test.loc[:, var_cat]\n",
        "\n",
        "dummies = pd.DataFrame([]) #referenced the answer key for this portion\n",
        "for var in var_cat:\n",
        "    new_dummies = pd.get_dummies( df.loc[:,var], drop_first=True, dtype=int)\n",
        "    dummies = pd.concat([dummies, new_dummies], axis=1, ignore_index=True)\n",
        "    X_train_c = dummies.iloc[0:train_size,:]\n",
        "    X_test_c = dummies.iloc[train_size:,:]\n",
        "\n",
        "reg_c = linear_model.LinearRegression().fit(X_train_c, y_train)\n",
        "y_hat_c = reg_c.predict(X_test_c)\n",
        "print('Categorical only R-squared: ', reg_c.score(X_test_c,y_test))\n",
        "rmse_c = np.sqrt( np.mean( (y_test - y_hat_c)**2 ))\n",
        "print('Categorical only RMSE: ', rmse_c)"
      ],
      "metadata": {
        "colab": {
          "base_uri": "https://localhost:8080/"
        },
        "id": "qztj4omoohRG",
        "outputId": "59ab2f99-5c75-4e6a-ee83-bdd9ea321fb1"
      },
      "id": "qztj4omoohRG",
      "execution_count": 73,
      "outputs": [
        {
          "output_type": "stream",
          "name": "stdout",
          "text": [
            "Categorical only R-squared:  0.6298129532407463\n",
            "Categorical only RMSE:  0.2745910642522728\n"
          ]
        }
      ]
    },
    {
      "cell_type": "code",
      "source": [
        "# Combine numeric _n and categorical _c variables:\n",
        "X_train_all = pd.concat([X_train_num, X_train_c],axis=1, ignore_index=True)\n",
        "X_test_all = pd.concat([X_test_num, X_test_c],axis=1, ignore_index=True)\n",
        "X_train_all.fillna(0, inplace=True)\n",
        "\n",
        "#\n",
        "reg_all = linear_model.LinearRegression().fit(X_train_all,y_train) # Run regression\n",
        "y_hat_all = reg_all.predict(X_test_all)\n",
        "print('All R-squared: ', reg_all.score(X_test_all,y_test)) # R2\n",
        "rmse_all = np.sqrt( np.mean( (y_test - y_hat_all)**2 ))\n",
        "print('All RMSE: ', rmse_all) # R2"
      ],
      "metadata": {
        "colab": {
          "base_uri": "https://localhost:8080/"
        },
        "id": "VI_6-c1nqCvc",
        "outputId": "e1f8f6c2-d98e-45f2-85a0-54f86f2ad91b"
      },
      "id": "VI_6-c1nqCvc",
      "execution_count": 74,
      "outputs": [
        {
          "output_type": "stream",
          "name": "stdout",
          "text": [
            "All R-squared:  0.7999206763763924\n",
            "All RMSE:  0.201872376861989\n"
          ]
        }
      ]
    },
    {
      "cell_type": "markdown",
      "source": [
        "Between the numerical and categorical models the numerical one performed better. The joint model performed better than the two individual models. The joint model has a R-squared of 0.800 and a RMSE of 0.202 while the numerical model has a R-squared of 0.400 and RMSE of 0.338 and the categorical model has a R-squared of -0.111 and a RMSE of 0.460."
      ],
      "metadata": {
        "id": "J3AlCttAsHDy"
      },
      "id": "J3AlCttAsHDy"
    },
    {
      "cell_type": "markdown",
      "source": [
        "5. Use the PolynomialFeatures function from sklearn to expand the set of numerical variables you're using, along with the categorical variables. As you increase the degree of the expansion, how do the\n",
        " and RMSE change? At what point does\n",
        " go negative on the test set? For your best model with expanded features, what is the\n",
        " and RMSE? How does it compare to your best model from part 3?"
      ],
      "metadata": {
        "id": "3hEQYnotvP7Q"
      },
      "id": "3hEQYnotvP7Q"
    },
    {
      "cell_type": "code",
      "source": [
        "from sklearn.preprocessing import PolynomialFeatures\n",
        "\n",
        "for d in np.arange(1,7):\n",
        "    poly = PolynomialFeatures(degree=d,include_bias=False)\n",
        "    Z = poly.fit_transform(X_test_num)\n",
        "    names = poly.get_feature_names_out() # Get the names of these variables\n",
        "    X_test_d = pd.DataFrame(data=Z, columns = names) # Create a new, expanded dataframe\n",
        "    Z = poly.fit_transform(X_train_num)\n",
        "    names = poly.get_feature_names_out() # Get the names of these variables\n",
        "    X_train_d = pd.DataFrame(data=Z, columns = names) # Create a new, expanded dataframe\n",
        "    X_train_d.reset_index(drop=True, inplace=True)\n",
        "    X_train_c.reset_index(drop=True, inplace=True)\n",
        "    X_train_all = pd.concat([X_train_d, X_train_c], axis=1, ignore_index=True)\n",
        "    #\n",
        "    # Reset indices for concatenating:\n",
        "    X_test_d.reset_index(drop=True, inplace=True)\n",
        "    X_test_c.reset_index(drop=True, inplace=True)\n",
        "    X_test_all = pd.concat([X_test_d, X_test_c], axis=1, ignore_index=True)\n",
        "    #\n",
        "    # Regression metrics:\n",
        "    reg_all = linear_model.LinearRegression().fit(X_train_all,y_train) # Run regression\n",
        "    print(d, ' Rsq: ', reg_all.score(X_test_all,y_test)) # R2\n",
        "    y_hat_all = reg_all.predict(X_test_all)\n",
        "    rmse_all = np.sqrt( np.mean( (y_test - y_hat_all)**2 ))\n",
        "    print(d, 'RMSE: ', rmse_all) # R2"
      ],
      "metadata": {
        "colab": {
          "base_uri": "https://localhost:8080/"
        },
        "id": "Zj-otyctvPK-",
        "outputId": "6fbf8937-a0ba-491d-9e39-29169de759fd"
      },
      "id": "Zj-otyctvPK-",
      "execution_count": 75,
      "outputs": [
        {
          "output_type": "stream",
          "name": "stdout",
          "text": [
            "1  Rsq:  0.7999206763763924\n",
            "1 RMSE:  0.201872376861989\n",
            "2  Rsq:  0.8025408094604642\n",
            "2 RMSE:  0.2005462138908575\n",
            "3  Rsq:  0.7996599800454574\n",
            "3 RMSE:  0.2020038503577555\n",
            "4  Rsq:  -5136369668.87971\n",
            "4 RMSE:  32344.759597236964\n",
            "5  Rsq:  -510853755.57051307\n",
            "5 RMSE:  10200.561693879845\n",
            "6  Rsq:  -68984.29695598874\n",
            "6 RMSE:  118.5370350898972\n"
          ]
        }
      ]
    },
    {
      "cell_type": "markdown",
      "id": "25bf83c6-ff44-42d6-9b33-8be1b945860d",
      "metadata": {
        "id": "25bf83c6-ff44-42d6-9b33-8be1b945860d"
      },
      "source": [
        "**Q2.** The is a question about regression using decision trees and linear models. The data include wages at data science-y jobs, including\n",
        "\n",
        "  - `Rating`: Company worker happiness score\n",
        "  - `Size`: Number of employees\n",
        "  - `Sector`: Part of the economy\n",
        "  - `avg_salary`: Average wage\n",
        "  - `job_state`: Location of work\n",
        "\n",
        ""
      ]
    },
    {
      "cell_type": "markdown",
      "source": [
        " 1. Load the `wages_hw.csv` file. Split the sample into an ~80% training set and a ~20% test set. Do any necessary cleaning, including outliers and missings."
      ],
      "metadata": {
        "id": "RQ2QudYcmEgJ"
      },
      "id": "RQ2QudYcmEgJ"
    },
    {
      "cell_type": "code",
      "source": [
        "df = pd.read_csv('/content/assignment4/data/wages_hw.csv')\n",
        "df.head()"
      ],
      "metadata": {
        "colab": {
          "base_uri": "https://localhost:8080/",
          "height": 204
        },
        "id": "hlHFeBekw3cF",
        "outputId": "dc31acb3-d720-40a6-ce0e-60f5729281f6"
      },
      "id": "hlHFeBekw3cF",
      "execution_count": 76,
      "outputs": [
        {
          "output_type": "execute_result",
          "data": {
            "text/plain": [
              "   Unnamed: 0  Rating                    Size                        Sector  \\\n",
              "0           1     3.8   501 to 1000 employees           Aerospace & Defense   \n",
              "1           2     3.4        10000+ employees                   Health Care   \n",
              "2           3     4.8   501 to 1000 employees             Business Services   \n",
              "3           4     3.8  1001 to 5000 employees  Oil, Gas, Energy & Utilities   \n",
              "4           5     2.9     51 to 200 employees             Business Services   \n",
              "\n",
              "   avg_salary job_state  \n",
              "0        72.0        NM  \n",
              "1        87.5        MD  \n",
              "2        85.0        FL  \n",
              "3        76.5        WA  \n",
              "4       114.5        NY  "
            ],
            "text/html": [
              "\n",
              "  <div id=\"df-dc8d89ad-70fc-41af-9a5d-787aed23e733\" class=\"colab-df-container\">\n",
              "    <div>\n",
              "<style scoped>\n",
              "    .dataframe tbody tr th:only-of-type {\n",
              "        vertical-align: middle;\n",
              "    }\n",
              "\n",
              "    .dataframe tbody tr th {\n",
              "        vertical-align: top;\n",
              "    }\n",
              "\n",
              "    .dataframe thead th {\n",
              "        text-align: right;\n",
              "    }\n",
              "</style>\n",
              "<table border=\"1\" class=\"dataframe\">\n",
              "  <thead>\n",
              "    <tr style=\"text-align: right;\">\n",
              "      <th></th>\n",
              "      <th>Unnamed: 0</th>\n",
              "      <th>Rating</th>\n",
              "      <th>Size</th>\n",
              "      <th>Sector</th>\n",
              "      <th>avg_salary</th>\n",
              "      <th>job_state</th>\n",
              "    </tr>\n",
              "  </thead>\n",
              "  <tbody>\n",
              "    <tr>\n",
              "      <th>0</th>\n",
              "      <td>1</td>\n",
              "      <td>3.8</td>\n",
              "      <td>501 to 1000 employees</td>\n",
              "      <td>Aerospace &amp; Defense</td>\n",
              "      <td>72.0</td>\n",
              "      <td>NM</td>\n",
              "    </tr>\n",
              "    <tr>\n",
              "      <th>1</th>\n",
              "      <td>2</td>\n",
              "      <td>3.4</td>\n",
              "      <td>10000+ employees</td>\n",
              "      <td>Health Care</td>\n",
              "      <td>87.5</td>\n",
              "      <td>MD</td>\n",
              "    </tr>\n",
              "    <tr>\n",
              "      <th>2</th>\n",
              "      <td>3</td>\n",
              "      <td>4.8</td>\n",
              "      <td>501 to 1000 employees</td>\n",
              "      <td>Business Services</td>\n",
              "      <td>85.0</td>\n",
              "      <td>FL</td>\n",
              "    </tr>\n",
              "    <tr>\n",
              "      <th>3</th>\n",
              "      <td>4</td>\n",
              "      <td>3.8</td>\n",
              "      <td>1001 to 5000 employees</td>\n",
              "      <td>Oil, Gas, Energy &amp; Utilities</td>\n",
              "      <td>76.5</td>\n",
              "      <td>WA</td>\n",
              "    </tr>\n",
              "    <tr>\n",
              "      <th>4</th>\n",
              "      <td>5</td>\n",
              "      <td>2.9</td>\n",
              "      <td>51 to 200 employees</td>\n",
              "      <td>Business Services</td>\n",
              "      <td>114.5</td>\n",
              "      <td>NY</td>\n",
              "    </tr>\n",
              "  </tbody>\n",
              "</table>\n",
              "</div>\n",
              "    <div class=\"colab-df-buttons\">\n",
              "\n",
              "  <div class=\"colab-df-container\">\n",
              "    <button class=\"colab-df-convert\" onclick=\"convertToInteractive('df-dc8d89ad-70fc-41af-9a5d-787aed23e733')\"\n",
              "            title=\"Convert this dataframe to an interactive table.\"\n",
              "            style=\"display:none;\">\n",
              "\n",
              "  <svg xmlns=\"http://www.w3.org/2000/svg\" height=\"24px\" viewBox=\"0 -960 960 960\">\n",
              "    <path d=\"M120-120v-720h720v720H120Zm60-500h600v-160H180v160Zm220 220h160v-160H400v160Zm0 220h160v-160H400v160ZM180-400h160v-160H180v160Zm440 0h160v-160H620v160ZM180-180h160v-160H180v160Zm440 0h160v-160H620v160Z\"/>\n",
              "  </svg>\n",
              "    </button>\n",
              "\n",
              "  <style>\n",
              "    .colab-df-container {\n",
              "      display:flex;\n",
              "      gap: 12px;\n",
              "    }\n",
              "\n",
              "    .colab-df-convert {\n",
              "      background-color: #E8F0FE;\n",
              "      border: none;\n",
              "      border-radius: 50%;\n",
              "      cursor: pointer;\n",
              "      display: none;\n",
              "      fill: #1967D2;\n",
              "      height: 32px;\n",
              "      padding: 0 0 0 0;\n",
              "      width: 32px;\n",
              "    }\n",
              "\n",
              "    .colab-df-convert:hover {\n",
              "      background-color: #E2EBFA;\n",
              "      box-shadow: 0px 1px 2px rgba(60, 64, 67, 0.3), 0px 1px 3px 1px rgba(60, 64, 67, 0.15);\n",
              "      fill: #174EA6;\n",
              "    }\n",
              "\n",
              "    .colab-df-buttons div {\n",
              "      margin-bottom: 4px;\n",
              "    }\n",
              "\n",
              "    [theme=dark] .colab-df-convert {\n",
              "      background-color: #3B4455;\n",
              "      fill: #D2E3FC;\n",
              "    }\n",
              "\n",
              "    [theme=dark] .colab-df-convert:hover {\n",
              "      background-color: #434B5C;\n",
              "      box-shadow: 0px 1px 3px 1px rgba(0, 0, 0, 0.15);\n",
              "      filter: drop-shadow(0px 1px 2px rgba(0, 0, 0, 0.3));\n",
              "      fill: #FFFFFF;\n",
              "    }\n",
              "  </style>\n",
              "\n",
              "    <script>\n",
              "      const buttonEl =\n",
              "        document.querySelector('#df-dc8d89ad-70fc-41af-9a5d-787aed23e733 button.colab-df-convert');\n",
              "      buttonEl.style.display =\n",
              "        google.colab.kernel.accessAllowed ? 'block' : 'none';\n",
              "\n",
              "      async function convertToInteractive(key) {\n",
              "        const element = document.querySelector('#df-dc8d89ad-70fc-41af-9a5d-787aed23e733');\n",
              "        const dataTable =\n",
              "          await google.colab.kernel.invokeFunction('convertToInteractive',\n",
              "                                                    [key], {});\n",
              "        if (!dataTable) return;\n",
              "\n",
              "        const docLinkHtml = 'Like what you see? Visit the ' +\n",
              "          '<a target=\"_blank\" href=https://colab.research.google.com/notebooks/data_table.ipynb>data table notebook</a>'\n",
              "          + ' to learn more about interactive tables.';\n",
              "        element.innerHTML = '';\n",
              "        dataTable['output_type'] = 'display_data';\n",
              "        await google.colab.output.renderOutput(dataTable, element);\n",
              "        const docLink = document.createElement('div');\n",
              "        docLink.innerHTML = docLinkHtml;\n",
              "        element.appendChild(docLink);\n",
              "      }\n",
              "    </script>\n",
              "  </div>\n",
              "\n",
              "\n",
              "<div id=\"df-5f0d7038-2884-46c0-829e-1ab25c56c1e7\">\n",
              "  <button class=\"colab-df-quickchart\" onclick=\"quickchart('df-5f0d7038-2884-46c0-829e-1ab25c56c1e7')\"\n",
              "            title=\"Suggest charts\"\n",
              "            style=\"display:none;\">\n",
              "\n",
              "<svg xmlns=\"http://www.w3.org/2000/svg\" height=\"24px\"viewBox=\"0 0 24 24\"\n",
              "     width=\"24px\">\n",
              "    <g>\n",
              "        <path d=\"M19 3H5c-1.1 0-2 .9-2 2v14c0 1.1.9 2 2 2h14c1.1 0 2-.9 2-2V5c0-1.1-.9-2-2-2zM9 17H7v-7h2v7zm4 0h-2V7h2v10zm4 0h-2v-4h2v4z\"/>\n",
              "    </g>\n",
              "</svg>\n",
              "  </button>\n",
              "\n",
              "<style>\n",
              "  .colab-df-quickchart {\n",
              "      --bg-color: #E8F0FE;\n",
              "      --fill-color: #1967D2;\n",
              "      --hover-bg-color: #E2EBFA;\n",
              "      --hover-fill-color: #174EA6;\n",
              "      --disabled-fill-color: #AAA;\n",
              "      --disabled-bg-color: #DDD;\n",
              "  }\n",
              "\n",
              "  [theme=dark] .colab-df-quickchart {\n",
              "      --bg-color: #3B4455;\n",
              "      --fill-color: #D2E3FC;\n",
              "      --hover-bg-color: #434B5C;\n",
              "      --hover-fill-color: #FFFFFF;\n",
              "      --disabled-bg-color: #3B4455;\n",
              "      --disabled-fill-color: #666;\n",
              "  }\n",
              "\n",
              "  .colab-df-quickchart {\n",
              "    background-color: var(--bg-color);\n",
              "    border: none;\n",
              "    border-radius: 50%;\n",
              "    cursor: pointer;\n",
              "    display: none;\n",
              "    fill: var(--fill-color);\n",
              "    height: 32px;\n",
              "    padding: 0;\n",
              "    width: 32px;\n",
              "  }\n",
              "\n",
              "  .colab-df-quickchart:hover {\n",
              "    background-color: var(--hover-bg-color);\n",
              "    box-shadow: 0 1px 2px rgba(60, 64, 67, 0.3), 0 1px 3px 1px rgba(60, 64, 67, 0.15);\n",
              "    fill: var(--button-hover-fill-color);\n",
              "  }\n",
              "\n",
              "  .colab-df-quickchart-complete:disabled,\n",
              "  .colab-df-quickchart-complete:disabled:hover {\n",
              "    background-color: var(--disabled-bg-color);\n",
              "    fill: var(--disabled-fill-color);\n",
              "    box-shadow: none;\n",
              "  }\n",
              "\n",
              "  .colab-df-spinner {\n",
              "    border: 2px solid var(--fill-color);\n",
              "    border-color: transparent;\n",
              "    border-bottom-color: var(--fill-color);\n",
              "    animation:\n",
              "      spin 1s steps(1) infinite;\n",
              "  }\n",
              "\n",
              "  @keyframes spin {\n",
              "    0% {\n",
              "      border-color: transparent;\n",
              "      border-bottom-color: var(--fill-color);\n",
              "      border-left-color: var(--fill-color);\n",
              "    }\n",
              "    20% {\n",
              "      border-color: transparent;\n",
              "      border-left-color: var(--fill-color);\n",
              "      border-top-color: var(--fill-color);\n",
              "    }\n",
              "    30% {\n",
              "      border-color: transparent;\n",
              "      border-left-color: var(--fill-color);\n",
              "      border-top-color: var(--fill-color);\n",
              "      border-right-color: var(--fill-color);\n",
              "    }\n",
              "    40% {\n",
              "      border-color: transparent;\n",
              "      border-right-color: var(--fill-color);\n",
              "      border-top-color: var(--fill-color);\n",
              "    }\n",
              "    60% {\n",
              "      border-color: transparent;\n",
              "      border-right-color: var(--fill-color);\n",
              "    }\n",
              "    80% {\n",
              "      border-color: transparent;\n",
              "      border-right-color: var(--fill-color);\n",
              "      border-bottom-color: var(--fill-color);\n",
              "    }\n",
              "    90% {\n",
              "      border-color: transparent;\n",
              "      border-bottom-color: var(--fill-color);\n",
              "    }\n",
              "  }\n",
              "</style>\n",
              "\n",
              "  <script>\n",
              "    async function quickchart(key) {\n",
              "      const quickchartButtonEl =\n",
              "        document.querySelector('#' + key + ' button');\n",
              "      quickchartButtonEl.disabled = true;  // To prevent multiple clicks.\n",
              "      quickchartButtonEl.classList.add('colab-df-spinner');\n",
              "      try {\n",
              "        const charts = await google.colab.kernel.invokeFunction(\n",
              "            'suggestCharts', [key], {});\n",
              "      } catch (error) {\n",
              "        console.error('Error during call to suggestCharts:', error);\n",
              "      }\n",
              "      quickchartButtonEl.classList.remove('colab-df-spinner');\n",
              "      quickchartButtonEl.classList.add('colab-df-quickchart-complete');\n",
              "    }\n",
              "    (() => {\n",
              "      let quickchartButtonEl =\n",
              "        document.querySelector('#df-5f0d7038-2884-46c0-829e-1ab25c56c1e7 button');\n",
              "      quickchartButtonEl.style.display =\n",
              "        google.colab.kernel.accessAllowed ? 'block' : 'none';\n",
              "    })();\n",
              "  </script>\n",
              "</div>\n",
              "    </div>\n",
              "  </div>\n"
            ]
          },
          "metadata": {},
          "execution_count": 76
        }
      ]
    },
    {
      "cell_type": "code",
      "source": [
        "df = df.drop('Unnamed: 0', axis = 1)"
      ],
      "metadata": {
        "id": "lAGTJFROHfni"
      },
      "id": "lAGTJFROHfni",
      "execution_count": 77,
      "outputs": []
    },
    {
      "cell_type": "code",
      "source": [
        "print(df.dtypes)"
      ],
      "metadata": {
        "colab": {
          "base_uri": "https://localhost:8080/"
        },
        "id": "FepjO_kCH7bl",
        "outputId": "0ca04905-9155-4491-a722-dc9c6416bca9"
      },
      "id": "FepjO_kCH7bl",
      "execution_count": 78,
      "outputs": [
        {
          "output_type": "stream",
          "name": "stdout",
          "text": [
            "Rating        float64\n",
            "Size           object\n",
            "Sector         object\n",
            "avg_salary    float64\n",
            "job_state      object\n",
            "dtype: object\n"
          ]
        }
      ]
    },
    {
      "cell_type": "code",
      "source": [
        "if df.isna().any().any(): #decided to try a new way with the help of ChatGPT\n",
        "    print(\"There are NaN values in the DataFrame.\")\n",
        "    print(\"Columns with NaN values:\")\n",
        "    print(df.columns[df.isna().any()])\n",
        "\n",
        "    print(\"\\nNumber of NaN values in each column:\")\n",
        "    print(df.isna().sum())\n",
        "else:\n",
        "    print(\"There are no NaN values in the DataFrame.\")\n",
        "\n",
        "    #probably gonna keep this chunk of code for future usage it's very useful"
      ],
      "metadata": {
        "colab": {
          "base_uri": "https://localhost:8080/"
        },
        "id": "6X5DRpYdIV3k",
        "outputId": "b8bd5a0a-3667-43b1-bd75-a38845d17b97"
      },
      "id": "6X5DRpYdIV3k",
      "execution_count": 79,
      "outputs": [
        {
          "output_type": "stream",
          "name": "stdout",
          "text": [
            "There are no NaN values in the DataFrame.\n"
          ]
        }
      ]
    },
    {
      "cell_type": "code",
      "source": [
        "for columns in df.columns:\n",
        "  print(columns, '\\n')\n",
        "  print(df[columns].unique(),'\\n','\\n')"
      ],
      "metadata": {
        "colab": {
          "base_uri": "https://localhost:8080/"
        },
        "id": "6zXFAuInIotS",
        "outputId": "4765aef0-f512-430a-d8c7-3920f490f527"
      },
      "id": "6zXFAuInIotS",
      "execution_count": 80,
      "outputs": [
        {
          "output_type": "stream",
          "name": "stdout",
          "text": [
            "Rating \n",
            "\n",
            "[3.8 3.4 4.8 2.9 4.1 3.3 4.6 3.5 3.2 3.7 3.6 3.9 4.3 4.2 4.  4.7 5.  3.1\n",
            " 4.4 2.8 2.7 1.9 4.5 3.  2.3 2.6 2.4 2.5 2.2 2.1] \n",
            " \n",
            "\n",
            "Size \n",
            "\n",
            "['501 to 1000 employees' '10000+ employees' '1001 to 5000 employees'\n",
            " '51 to 200 employees' '201 to 500 employees' '5001 to 10000 employees'\n",
            " '1 to 50 employees' 'Unknown'] \n",
            " \n",
            "\n",
            "Sector \n",
            "\n",
            "['Aerospace & Defense' 'Health Care' 'Business Services'\n",
            " 'Oil, Gas, Energy & Utilities' 'Real Estate' 'Finance'\n",
            " 'Information Technology' 'Retail' 'Biotech & Pharmaceuticals' 'Media'\n",
            " 'Insurance' 'Transportation & Logistics' 'Telecommunications' '-1'\n",
            " 'Manufacturing' 'Mining & Metals' 'Government' 'Education'\n",
            " 'Agriculture & Forestry' 'Travel & Tourism' 'Non-Profit'\n",
            " 'Arts, Entertainment & Recreation' 'Construction, Repair & Maintenance'\n",
            " 'Accounting & Legal' 'Consumer Services'] \n",
            " \n",
            "\n",
            "avg_salary \n",
            "\n",
            "[ 72.   87.5  85.   76.5 114.5  95.   73.5 114.   61.  140.  163.5 139.\n",
            "  65.5 113.5 146.  102.  153.5 142.5 105.5  96.  112.5  84.  143.   86.5\n",
            "  99.5  47.5 121.  106.  107.  110.  147.5  88.   98.5  82.5 130.  155.\n",
            " 184.5  29.5  81.   91.   68.  115.  109.5  75.5 154.5 143.5 139.5  67.\n",
            " 118.   79.5  56.5 128.5  97.5  66.5 179.5  76.  112.   98.  128.  150.5\n",
            " 124.   77.5  87.   53.5  85.5  48.  174.  106.5  72.5  99.  133.  237.5\n",
            "  95.5 104.5  55.   61.5 157.   78.  132.5 108.   80.5 107.5 119.5 134.\n",
            " 100.5 122.   92.5  62.   39.5  40.5  89.5 147.   81.5 168.   97.  100.\n",
            " 105.  103.5 137.5  84.5 164.  169.  142.  171.5 145.   20.5 120.   71.5\n",
            "  51.5 151.5  27.5 161.5 124.5 148.   59.  146.5  91.5 140.5  70.5  93.5\n",
            " 134.5 181.  205.   48.5  21.5  52.5  64.   54.   89.   65.   20.   79.\n",
            "  69.   49.   88.5  96.5  15.5  83.5 163.   50.   93.   94.5  63.5 109.\n",
            " 101.   90.   58.  102.5  60.5 125.   77.   92.  162.5  60.   90.5  82.\n",
            " 164.5  44.  149.5  71.   63.   62.5  64.5 111.5  31.5 137.  254.   73.\n",
            "  45.5 122.5  26.5 117.5  70.   80.  129.5 167.5 180.   51.  138.5 120.5\n",
            " 162.   68.5 110.5 115.5  43.  119.   25.   13.5 194.5  74.  136.5  74.5\n",
            " 116.5 232.5 153.  127.  177.  101.5 145.5  94.  123.5 165.   59.5  66.\n",
            "  86.  173.  172.   69.5 194.  113.   47.  133.5  37.5 127.5 121.5 118.5\n",
            "  58.5  83.  221.5  44.5  37.   53.  103.  111. ] \n",
            " \n",
            "\n",
            "job_state \n",
            "\n",
            "[' NM' ' MD' ' FL' ' WA' ' NY' ' TX' ' CA' ' VA' ' MA' ' NJ' ' CO' ' IL'\n",
            " ' KY' ' OR' ' CT' ' MI' ' DC' ' OH' ' AL' ' MO' ' PA' ' GA' ' IN' ' LA'\n",
            " ' WI' ' NC' ' AZ' ' NE' ' MN' ' Los Angeles' ' UT' ' TN' ' DE' ' ID'\n",
            " ' RI' ' IA' ' SC' ' KS'] \n",
            " \n",
            "\n"
          ]
        }
      ]
    },
    {
      "cell_type": "code",
      "source": [
        "df['Sector'] = df['Sector'].str.replace('-1','Missing')\n",
        "df['Intercept'] = np.ones(df.shape[0])\n",
        "sns.boxplot(data = df)"
      ],
      "metadata": {
        "colab": {
          "base_uri": "https://localhost:8080/",
          "height": 447
        },
        "id": "4HenPuOqJxXo",
        "outputId": "1d585c17-ca7c-4afc-a1af-8db89e46d9b6"
      },
      "id": "4HenPuOqJxXo",
      "execution_count": 81,
      "outputs": [
        {
          "output_type": "execute_result",
          "data": {
            "text/plain": [
              "<Axes: >"
            ]
          },
          "metadata": {},
          "execution_count": 81
        },
        {
          "output_type": "display_data",
          "data": {
            "text/plain": [
              "<Figure size 640x480 with 1 Axes>"
            ],
            "image/png": "[encoded data removed]"
          },
          "metadata": {}
        }
      ]
    },
    {
      "cell_type": "code",
      "source": [
        "df.describe()"
      ],
      "metadata": {
        "colab": {
          "base_uri": "https://localhost:8080/",
          "height": 297
        },
        "id": "ZEEMquOuJ4nD",
        "outputId": "6e92b7d8-7307-448b-8c63-bf78547955b7"
      },
      "id": "ZEEMquOuJ4nD",
      "execution_count": 82,
      "outputs": [
        {
          "output_type": "execute_result",
          "data": {
            "text/plain": [
              "           Rating  avg_salary  Intercept\n",
              "count  731.000000  731.000000      731.0\n",
              "mean     3.688372  100.090971        1.0\n",
              "std      0.570353   38.537585        0.0\n",
              "min      1.900000   13.500000        1.0\n",
              "25%      3.300000   73.000000        1.0\n",
              "50%      3.700000   96.500000        1.0\n",
              "75%      4.000000  122.500000        1.0\n",
              "max      5.000000  254.000000        1.0"
            ],
            "text/html": [
              "\n",
              "  <div id=\"df-02c1f10b-5446-446c-828f-1f893523e6e0\" class=\"colab-df-container\">\n",
              "    <div>\n",
              "<style scoped>\n",
              "    .dataframe tbody tr th:only-of-type {\n",
              "        vertical-align: middle;\n",
              "    }\n",
              "\n",
              "    .dataframe tbody tr th {\n",
              "        vertical-align: top;\n",
              "    }\n",
              "\n",
              "    .dataframe thead th {\n",
              "        text-align: right;\n",
              "    }\n",
              "</style>\n",
              "<table border=\"1\" class=\"dataframe\">\n",
              "  <thead>\n",
              "    <tr style=\"text-align: right;\">\n",
              "      <th></th>\n",
              "      <th>Rating</th>\n",
              "      <th>avg_salary</th>\n",
              "      <th>Intercept</th>\n",
              "    </tr>\n",
              "  </thead>\n",
              "  <tbody>\n",
              "    <tr>\n",
              "      <th>count</th>\n",
              "      <td>731.000000</td>\n",
              "      <td>731.000000</td>\n",
              "      <td>731.0</td>\n",
              "    </tr>\n",
              "    <tr>\n",
              "      <th>mean</th>\n",
              "      <td>3.688372</td>\n",
              "      <td>100.090971</td>\n",
              "      <td>1.0</td>\n",
              "    </tr>\n",
              "    <tr>\n",
              "      <th>std</th>\n",
              "      <td>0.570353</td>\n",
              "      <td>38.537585</td>\n",
              "      <td>0.0</td>\n",
              "    </tr>\n",
              "    <tr>\n",
              "      <th>min</th>\n",
              "      <td>1.900000</td>\n",
              "      <td>13.500000</td>\n",
              "      <td>1.0</td>\n",
              "    </tr>\n",
              "    <tr>\n",
              "      <th>25%</th>\n",
              "      <td>3.300000</td>\n",
              "      <td>73.000000</td>\n",
              "      <td>1.0</td>\n",
              "    </tr>\n",
              "    <tr>\n",
              "      <th>50%</th>\n",
              "      <td>3.700000</td>\n",
              "      <td>96.500000</td>\n",
              "      <td>1.0</td>\n",
              "    </tr>\n",
              "    <tr>\n",
              "      <th>75%</th>\n",
              "      <td>4.000000</td>\n",
              "      <td>122.500000</td>\n",
              "      <td>1.0</td>\n",
              "    </tr>\n",
              "    <tr>\n",
              "      <th>max</th>\n",
              "      <td>5.000000</td>\n",
              "      <td>254.000000</td>\n",
              "      <td>1.0</td>\n",
              "    </tr>\n",
              "  </tbody>\n",
              "</table>\n",
              "</div>\n",
              "    <div class=\"colab-df-buttons\">\n",
              "\n",
              "  <div class=\"colab-df-container\">\n",
              "    <button class=\"colab-df-convert\" onclick=\"convertToInteractive('df-02c1f10b-5446-446c-828f-1f893523e6e0')\"\n",
              "            title=\"Convert this dataframe to an interactive table.\"\n",
              "            style=\"display:none;\">\n",
              "\n",
              "  <svg xmlns=\"http://www.w3.org/2000/svg\" height=\"24px\" viewBox=\"0 -960 960 960\">\n",
              "    <path d=\"M120-120v-720h720v720H120Zm60-500h600v-160H180v160Zm220 220h160v-160H400v160Zm0 220h160v-160H400v160ZM180-400h160v-160H180v160Zm440 0h160v-160H620v160ZM180-180h160v-160H180v160Zm440 0h160v-160H620v160Z\"/>\n",
              "  </svg>\n",
              "    </button>\n",
              "\n",
              "  <style>\n",
              "    .colab-df-container {\n",
              "      display:flex;\n",
              "      gap: 12px;\n",
              "    }\n",
              "\n",
              "    .colab-df-convert {\n",
              "      background-color: #E8F0FE;\n",
              "      border: none;\n",
              "      border-radius: 50%;\n",
              "      cursor: pointer;\n",
              "      display: none;\n",
              "      fill: #1967D2;\n",
              "      height: 32px;\n",
              "      padding: 0 0 0 0;\n",
              "      width: 32px;\n",
              "    }\n",
              "\n",
              "    .colab-df-convert:hover {\n",
              "      background-color: #E2EBFA;\n",
              "      box-shadow: 0px 1px 2px rgba(60, 64, 67, 0.3), 0px 1px 3px 1px rgba(60, 64, 67, 0.15);\n",
              "      fill: #174EA6;\n",
              "    }\n",
              "\n",
              "    .colab-df-buttons div {\n",
              "      margin-bottom: 4px;\n",
              "    }\n",
              "\n",
              "    [theme=dark] .colab-df-convert {\n",
              "      background-color: #3B4455;\n",
              "      fill: #D2E3FC;\n",
              "    }\n",
              "\n",
              "    [theme=dark] .colab-df-convert:hover {\n",
              "      background-color: #434B5C;\n",
              "      box-shadow: 0px 1px 3px 1px rgba(0, 0, 0, 0.15);\n",
              "      filter: drop-shadow(0px 1px 2px rgba(0, 0, 0, 0.3));\n",
              "      fill: #FFFFFF;\n",
              "    }\n",
              "  </style>\n",
              "\n",
              "    <script>\n",
              "      const buttonEl =\n",
              "        document.querySelector('#df-02c1f10b-5446-446c-828f-1f893523e6e0 button.colab-df-convert');\n",
              "      buttonEl.style.display =\n",
              "        google.colab.kernel.accessAllowed ? 'block' : 'none';\n",
              "\n",
              "      async function convertToInteractive(key) {\n",
              "        const element = document.querySelector('#df-02c1f10b-5446-446c-828f-1f893523e6e0');\n",
              "        const dataTable =\n",
              "          await google.colab.kernel.invokeFunction('convertToInteractive',\n",
              "                                                    [key], {});\n",
              "        if (!dataTable) return;\n",
              "\n",
              "        const docLinkHtml = 'Like what you see? Visit the ' +\n",
              "          '<a target=\"_blank\" href=https://colab.research.google.com/notebooks/data_table.ipynb>data table notebook</a>'\n",
              "          + ' to learn more about interactive tables.';\n",
              "        element.innerHTML = '';\n",
              "        dataTable['output_type'] = 'display_data';\n",
              "        await google.colab.output.renderOutput(dataTable, element);\n",
              "        const docLink = document.createElement('div');\n",
              "        docLink.innerHTML = docLinkHtml;\n",
              "        element.appendChild(docLink);\n",
              "      }\n",
              "    </script>\n",
              "  </div>\n",
              "\n",
              "\n",
              "<div id=\"df-b880e3bf-266e-423e-a00c-6beedc42d168\">\n",
              "  <button class=\"colab-df-quickchart\" onclick=\"quickchart('df-b880e3bf-266e-423e-a00c-6beedc42d168')\"\n",
              "            title=\"Suggest charts\"\n",
              "            style=\"display:none;\">\n",
              "\n",
              "<svg xmlns=\"http://www.w3.org/2000/svg\" height=\"24px\"viewBox=\"0 0 24 24\"\n",
              "     width=\"24px\">\n",
              "    <g>\n",
              "        <path d=\"M19 3H5c-1.1 0-2 .9-2 2v14c0 1.1.9 2 2 2h14c1.1 0 2-.9 2-2V5c0-1.1-.9-2-2-2zM9 17H7v-7h2v7zm4 0h-2V7h2v10zm4 0h-2v-4h2v4z\"/>\n",
              "    </g>\n",
              "</svg>\n",
              "  </button>\n",
              "\n",
              "<style>\n",
              "  .colab-df-quickchart {\n",
              "      --bg-color: #E8F0FE;\n",
              "      --fill-color: #1967D2;\n",
              "      --hover-bg-color: #E2EBFA;\n",
              "      --hover-fill-color: #174EA6;\n",
              "      --disabled-fill-color: #AAA;\n",
              "      --disabled-bg-color: #DDD;\n",
              "  }\n",
              "\n",
              "  [theme=dark] .colab-df-quickchart {\n",
              "      --bg-color: #3B4455;\n",
              "      --fill-color: #D2E3FC;\n",
              "      --hover-bg-color: #434B5C;\n",
              "      --hover-fill-color: #FFFFFF;\n",
              "      --disabled-bg-color: #3B4455;\n",
              "      --disabled-fill-color: #666;\n",
              "  }\n",
              "\n",
              "  .colab-df-quickchart {\n",
              "    background-color: var(--bg-color);\n",
              "    border: none;\n",
              "    border-radius: 50%;\n",
              "    cursor: pointer;\n",
              "    display: none;\n",
              "    fill: var(--fill-color);\n",
              "    height: 32px;\n",
              "    padding: 0;\n",
              "    width: 32px;\n",
              "  }\n",
              "\n",
              "  .colab-df-quickchart:hover {\n",
              "    background-color: var(--hover-bg-color);\n",
              "    box-shadow: 0 1px 2px rgba(60, 64, 67, 0.3), 0 1px 3px 1px rgba(60, 64, 67, 0.15);\n",
              "    fill: var(--button-hover-fill-color);\n",
              "  }\n",
              "\n",
              "  .colab-df-quickchart-complete:disabled,\n",
              "  .colab-df-quickchart-complete:disabled:hover {\n",
              "    background-color: var(--disabled-bg-color);\n",
              "    fill: var(--disabled-fill-color);\n",
              "    box-shadow: none;\n",
              "  }\n",
              "\n",
              "  .colab-df-spinner {\n",
              "    border: 2px solid var(--fill-color);\n",
              "    border-color: transparent;\n",
              "    border-bottom-color: var(--fill-color);\n",
              "    animation:\n",
              "      spin 1s steps(1) infinite;\n",
              "  }\n",
              "\n",
              "  @keyframes spin {\n",
              "    0% {\n",
              "      border-color: transparent;\n",
              "      border-bottom-color: var(--fill-color);\n",
              "      border-left-color: var(--fill-color);\n",
              "    }\n",
              "    20% {\n",
              "      border-color: transparent;\n",
              "      border-left-color: var(--fill-color);\n",
              "      border-top-color: var(--fill-color);\n",
              "    }\n",
              "    30% {\n",
              "      border-color: transparent;\n",
              "      border-left-color: var(--fill-color);\n",
              "      border-top-color: var(--fill-color);\n",
              "      border-right-color: var(--fill-color);\n",
              "    }\n",
              "    40% {\n",
              "      border-color: transparent;\n",
              "      border-right-color: var(--fill-color);\n",
              "      border-top-color: var(--fill-color);\n",
              "    }\n",
              "    60% {\n",
              "      border-color: transparent;\n",
              "      border-right-color: var(--fill-color);\n",
              "    }\n",
              "    80% {\n",
              "      border-color: transparent;\n",
              "      border-right-color: var(--fill-color);\n",
              "      border-bottom-color: var(--fill-color);\n",
              "    }\n",
              "    90% {\n",
              "      border-color: transparent;\n",
              "      border-bottom-color: var(--fill-color);\n",
              "    }\n",
              "  }\n",
              "</style>\n",
              "\n",
              "  <script>\n",
              "    async function quickchart(key) {\n",
              "      const quickchartButtonEl =\n",
              "        document.querySelector('#' + key + ' button');\n",
              "      quickchartButtonEl.disabled = true;  // To prevent multiple clicks.\n",
              "      quickchartButtonEl.classList.add('colab-df-spinner');\n",
              "      try {\n",
              "        const charts = await google.colab.kernel.invokeFunction(\n",
              "            'suggestCharts', [key], {});\n",
              "      } catch (error) {\n",
              "        console.error('Error during call to suggestCharts:', error);\n",
              "      }\n",
              "      quickchartButtonEl.classList.remove('colab-df-spinner');\n",
              "      quickchartButtonEl.classList.add('colab-df-quickchart-complete');\n",
              "    }\n",
              "    (() => {\n",
              "      let quickchartButtonEl =\n",
              "        document.querySelector('#df-b880e3bf-266e-423e-a00c-6beedc42d168 button');\n",
              "      quickchartButtonEl.style.display =\n",
              "        google.colab.kernel.accessAllowed ? 'block' : 'none';\n",
              "    })();\n",
              "  </script>\n",
              "</div>\n",
              "    </div>\n",
              "  </div>\n"
            ]
          },
          "metadata": {},
          "execution_count": 82
        }
      ]
    },
    {
      "cell_type": "code",
      "source": [
        "np.random.seed(1000)\n",
        "\n",
        "N = df.shape[0]\n",
        "train_size = int(.8*N)\n",
        "\n",
        "index = np.arange(N)\n",
        "np.random.shuffle(index)\n",
        "\n",
        "train_rows = index[:train_size]\n",
        "test_rows = index[train_size:]\n",
        "\n",
        "y = df['avg_salary']\n",
        "y_train = y.iloc[train_rows]\n",
        "y_test = y.iloc[test_rows]"
      ],
      "metadata": {
        "id": "Ku1HC9ybKX-K"
      },
      "id": "Ku1HC9ybKX-K",
      "execution_count": 83,
      "outputs": []
    },
    {
      "cell_type": "markdown",
      "source": [
        "2. Use a linear model to regress avg_salary on Sector. Which sectors have the highest predicted wages? What is the\n",
        " and RMSE on the test set?"
      ],
      "metadata": {
        "id": "zOz6eSNRqXni"
      },
      "id": "zOz6eSNRqXni"
    },
    {
      "cell_type": "code",
      "source": [
        "from sklearn import linear_model\n",
        "\n",
        "dummies = pd.get_dummies(df.loc[:, 'Sector'], dtype = int)\n",
        "X_train = dummies.iloc[train_rows, :]\n",
        "X_test = dummies.iloc[test_rows, :]\n",
        "regression = linear_model.LinearRegression(fit_intercept=False).fit(X_train, y_train)\n",
        "rdf = pd.DataFrame({'variable': regression.feature_names_in_, 'slope':regression.coef_})\n",
        "rdf.sort_values(by='slope',axis=0)"
      ],
      "metadata": {
        "colab": {
          "base_uri": "https://localhost:8080/",
          "height": 824
        },
        "id": "7F8BcUeZqWzd",
        "outputId": "df573214-585a-4069-f591-7e5fe47a8ef4"
      },
      "id": "7F8BcUeZqWzd",
      "execution_count": 84,
      "outputs": [
        {
          "output_type": "execute_result",
          "data": {
            "text/plain": [
              "                              variable       slope\n",
              "6   Construction, Repair & Maintenance   26.500000\n",
              "3     Arts, Entertainment & Recreation   48.500000\n",
              "11                         Health Care   68.837500\n",
              "24                    Travel & Tourism   70.142857\n",
              "19        Oil, Gas, Energy & Utilities   78.181818\n",
              "18                          Non-Profit   79.700000\n",
              "2               Agriculture & Forestry   80.500000\n",
              "14                       Manufacturing   80.537037\n",
              "10                          Government   86.055556\n",
              "5                    Business Services   96.239726\n",
              "9                              Finance   97.303030\n",
              "23          Transportation & Logistics   97.428571\n",
              "17                             Missing   98.500000\n",
              "1                  Aerospace & Defense  100.380952\n",
              "7                    Consumer Services  100.666667\n",
              "8                            Education  100.833333\n",
              "21                              Retail  102.350000\n",
              "16                     Mining & Metals  104.000000\n",
              "20                         Real Estate  106.125000\n",
              "13                           Insurance  106.375000\n",
              "4            Biotech & Pharmaceuticals  113.201149\n",
              "12              Information Technology  113.444056\n",
              "0                   Accounting & Legal  113.500000\n",
              "22                  Telecommunications  114.000000\n",
              "15                               Media  116.666667"
            ],
            "text/html": [
              "\n",
              "  <div id=\"df-3c1687f6-c0af-4550-9471-1cb1653746c4\" class=\"colab-df-container\">\n",
              "    <div>\n",
              "<style scoped>\n",
              "    .dataframe tbody tr th:only-of-type {\n",
              "        vertical-align: middle;\n",
              "    }\n",
              "\n",
              "    .dataframe tbody tr th {\n",
              "        vertical-align: top;\n",
              "    }\n",
              "\n",
              "    .dataframe thead th {\n",
              "        text-align: right;\n",
              "    }\n",
              "</style>\n",
              "<table border=\"1\" class=\"dataframe\">\n",
              "  <thead>\n",
              "    <tr style=\"text-align: right;\">\n",
              "      <th></th>\n",
              "      <th>variable</th>\n",
              "      <th>slope</th>\n",
              "    </tr>\n",
              "  </thead>\n",
              "  <tbody>\n",
              "    <tr>\n",
              "      <th>6</th>\n",
              "      <td>Construction, Repair &amp; Maintenance</td>\n",
              "      <td>26.500000</td>\n",
              "    </tr>\n",
              "    <tr>\n",
              "      <th>3</th>\n",
              "      <td>Arts, Entertainment &amp; Recreation</td>\n",
              "      <td>48.500000</td>\n",
              "    </tr>\n",
              "    <tr>\n",
              "      <th>11</th>\n",
              "      <td>Health Care</td>\n",
              "      <td>68.837500</td>\n",
              "    </tr>\n",
              "    <tr>\n",
              "      <th>24</th>\n",
              "      <td>Travel &amp; Tourism</td>\n",
              "      <td>70.142857</td>\n",
              "    </tr>\n",
              "    <tr>\n",
              "      <th>19</th>\n",
              "      <td>Oil, Gas, Energy &amp; Utilities</td>\n",
              "      <td>78.181818</td>\n",
              "    </tr>\n",
              "    <tr>\n",
              "      <th>18</th>\n",
              "      <td>Non-Profit</td>\n",
              "      <td>79.700000</td>\n",
              "    </tr>\n",
              "    <tr>\n",
              "      <th>2</th>\n",
              "      <td>Agriculture &amp; Forestry</td>\n",
              "      <td>80.500000</td>\n",
              "    </tr>\n",
              "    <tr>\n",
              "      <th>14</th>\n",
              "      <td>Manufacturing</td>\n",
              "      <td>80.537037</td>\n",
              "    </tr>\n",
              "    <tr>\n",
              "      <th>10</th>\n",
              "      <td>Government</td>\n",
              "      <td>86.055556</td>\n",
              "    </tr>\n",
              "    <tr>\n",
              "      <th>5</th>\n",
              "      <td>Business Services</td>\n",
              "      <td>96.239726</td>\n",
              "    </tr>\n",
              "    <tr>\n",
              "      <th>9</th>\n",
              "      <td>Finance</td>\n",
              "      <td>97.303030</td>\n",
              "    </tr>\n",
              "    <tr>\n",
              "      <th>23</th>\n",
              "      <td>Transportation &amp; Logistics</td>\n",
              "      <td>97.428571</td>\n",
              "    </tr>\n",
              "    <tr>\n",
              "      <th>17</th>\n",
              "      <td>Missing</td>\n",
              "      <td>98.500000</td>\n",
              "    </tr>\n",
              "    <tr>\n",
              "      <th>1</th>\n",
              "      <td>Aerospace &amp; Defense</td>\n",
              "      <td>100.380952</td>\n",
              "    </tr>\n",
              "    <tr>\n",
              "      <th>7</th>\n",
              "      <td>Consumer Services</td>\n",
              "      <td>100.666667</td>\n",
              "    </tr>\n",
              "    <tr>\n",
              "      <th>8</th>\n",
              "      <td>Education</td>\n",
              "      <td>100.833333</td>\n",
              "    </tr>\n",
              "    <tr>\n",
              "      <th>21</th>\n",
              "      <td>Retail</td>\n",
              "      <td>102.350000</td>\n",
              "    </tr>\n",
              "    <tr>\n",
              "      <th>16</th>\n",
              "      <td>Mining &amp; Metals</td>\n",
              "      <td>104.000000</td>\n",
              "    </tr>\n",
              "    <tr>\n",
              "      <th>20</th>\n",
              "      <td>Real Estate</td>\n",
              "      <td>106.125000</td>\n",
              "    </tr>\n",
              "    <tr>\n",
              "      <th>13</th>\n",
              "      <td>Insurance</td>\n",
              "      <td>106.375000</td>\n",
              "    </tr>\n",
              "    <tr>\n",
              "      <th>4</th>\n",
              "      <td>Biotech &amp; Pharmaceuticals</td>\n",
              "      <td>113.201149</td>\n",
              "    </tr>\n",
              "    <tr>\n",
              "      <th>12</th>\n",
              "      <td>Information Technology</td>\n",
              "      <td>113.444056</td>\n",
              "    </tr>\n",
              "    <tr>\n",
              "      <th>0</th>\n",
              "      <td>Accounting &amp; Legal</td>\n",
              "      <td>113.500000</td>\n",
              "    </tr>\n",
              "    <tr>\n",
              "      <th>22</th>\n",
              "      <td>Telecommunications</td>\n",
              "      <td>114.000000</td>\n",
              "    </tr>\n",
              "    <tr>\n",
              "      <th>15</th>\n",
              "      <td>Media</td>\n",
              "      <td>116.666667</td>\n",
              "    </tr>\n",
              "  </tbody>\n",
              "</table>\n",
              "</div>\n",
              "    <div class=\"colab-df-buttons\">\n",
              "\n",
              "  <div class=\"colab-df-container\">\n",
              "    <button class=\"colab-df-convert\" onclick=\"convertToInteractive('df-3c1687f6-c0af-4550-9471-1cb1653746c4')\"\n",
              "            title=\"Convert this dataframe to an interactive table.\"\n",
              "            style=\"display:none;\">\n",
              "\n",
              "  <svg xmlns=\"http://www.w3.org/2000/svg\" height=\"24px\" viewBox=\"0 -960 960 960\">\n",
              "    <path d=\"M120-120v-720h720v720H120Zm60-500h600v-160H180v160Zm220 220h160v-160H400v160Zm0 220h160v-160H400v160ZM180-400h160v-160H180v160Zm440 0h160v-160H620v160ZM180-180h160v-160H180v160Zm440 0h160v-160H620v160Z\"/>\n",
              "  </svg>\n",
              "    </button>\n",
              "\n",
              "  <style>\n",
              "    .colab-df-container {\n",
              "      display:flex;\n",
              "      gap: 12px;\n",
              "    }\n",
              "\n",
              "    .colab-df-convert {\n",
              "      background-color: #E8F0FE;\n",
              "      border: none;\n",
              "      border-radius: 50%;\n",
              "      cursor: pointer;\n",
              "      display: none;\n",
              "      fill: #1967D2;\n",
              "      height: 32px;\n",
              "      padding: 0 0 0 0;\n",
              "      width: 32px;\n",
              "    }\n",
              "\n",
              "    .colab-df-convert:hover {\n",
              "      background-color: #E2EBFA;\n",
              "      box-shadow: 0px 1px 2px rgba(60, 64, 67, 0.3), 0px 1px 3px 1px rgba(60, 64, 67, 0.15);\n",
              "      fill: #174EA6;\n",
              "    }\n",
              "\n",
              "    .colab-df-buttons div {\n",
              "      margin-bottom: 4px;\n",
              "    }\n",
              "\n",
              "    [theme=dark] .colab-df-convert {\n",
              "      background-color: #3B4455;\n",
              "      fill: #D2E3FC;\n",
              "    }\n",
              "\n",
              "    [theme=dark] .colab-df-convert:hover {\n",
              "      background-color: #434B5C;\n",
              "      box-shadow: 0px 1px 3px 1px rgba(0, 0, 0, 0.15);\n",
              "      filter: drop-shadow(0px 1px 2px rgba(0, 0, 0, 0.3));\n",
              "      fill: #FFFFFF;\n",
              "    }\n",
              "  </style>\n",
              "\n",
              "    <script>\n",
              "      const buttonEl =\n",
              "        document.querySelector('#df-3c1687f6-c0af-4550-9471-1cb1653746c4 button.colab-df-convert');\n",
              "      buttonEl.style.display =\n",
              "        google.colab.kernel.accessAllowed ? 'block' : 'none';\n",
              "\n",
              "      async function convertToInteractive(key) {\n",
              "        const element = document.querySelector('#df-3c1687f6-c0af-4550-9471-1cb1653746c4');\n",
              "        const dataTable =\n",
              "          await google.colab.kernel.invokeFunction('convertToInteractive',\n",
              "                                                    [key], {});\n",
              "        if (!dataTable) return;\n",
              "\n",
              "        const docLinkHtml = 'Like what you see? Visit the ' +\n",
              "          '<a target=\"_blank\" href=https://colab.research.google.com/notebooks/data_table.ipynb>data table notebook</a>'\n",
              "          + ' to learn more about interactive tables.';\n",
              "        element.innerHTML = '';\n",
              "        dataTable['output_type'] = 'display_data';\n",
              "        await google.colab.output.renderOutput(dataTable, element);\n",
              "        const docLink = document.createElement('div');\n",
              "        docLink.innerHTML = docLinkHtml;\n",
              "        element.appendChild(docLink);\n",
              "      }\n",
              "    </script>\n",
              "  </div>\n",
              "\n",
              "\n",
              "<div id=\"df-f6ad1c11-07ed-4b82-8d65-920e12137029\">\n",
              "  <button class=\"colab-df-quickchart\" onclick=\"quickchart('df-f6ad1c11-07ed-4b82-8d65-920e12137029')\"\n",
              "            title=\"Suggest charts\"\n",
              "            style=\"display:none;\">\n",
              "\n",
              "<svg xmlns=\"http://www.w3.org/2000/svg\" height=\"24px\"viewBox=\"0 0 24 24\"\n",
              "     width=\"24px\">\n",
              "    <g>\n",
              "        <path d=\"M19 3H5c-1.1 0-2 .9-2 2v14c0 1.1.9 2 2 2h14c1.1 0 2-.9 2-2V5c0-1.1-.9-2-2-2zM9 17H7v-7h2v7zm4 0h-2V7h2v10zm4 0h-2v-4h2v4z\"/>\n",
              "    </g>\n",
              "</svg>\n",
              "  </button>\n",
              "\n",
              "<style>\n",
              "  .colab-df-quickchart {\n",
              "      --bg-color: #E8F0FE;\n",
              "      --fill-color: #1967D2;\n",
              "      --hover-bg-color: #E2EBFA;\n",
              "      --hover-fill-color: #174EA6;\n",
              "      --disabled-fill-color: #AAA;\n",
              "      --disabled-bg-color: #DDD;\n",
              "  }\n",
              "\n",
              "  [theme=dark] .colab-df-quickchart {\n",
              "      --bg-color: #3B4455;\n",
              "      --fill-color: #D2E3FC;\n",
              "      --hover-bg-color: #434B5C;\n",
              "      --hover-fill-color: #FFFFFF;\n",
              "      --disabled-bg-color: #3B4455;\n",
              "      --disabled-fill-color: #666;\n",
              "  }\n",
              "\n",
              "  .colab-df-quickchart {\n",
              "    background-color: var(--bg-color);\n",
              "    border: none;\n",
              "    border-radius: 50%;\n",
              "    cursor: pointer;\n",
              "    display: none;\n",
              "    fill: var(--fill-color);\n",
              "    height: 32px;\n",
              "    padding: 0;\n",
              "    width: 32px;\n",
              "  }\n",
              "\n",
              "  .colab-df-quickchart:hover {\n",
              "    background-color: var(--hover-bg-color);\n",
              "    box-shadow: 0 1px 2px rgba(60, 64, 67, 0.3), 0 1px 3px 1px rgba(60, 64, 67, 0.15);\n",
              "    fill: var(--button-hover-fill-color);\n",
              "  }\n",
              "\n",
              "  .colab-df-quickchart-complete:disabled,\n",
              "  .colab-df-quickchart-complete:disabled:hover {\n",
              "    background-color: var(--disabled-bg-color);\n",
              "    fill: var(--disabled-fill-color);\n",
              "    box-shadow: none;\n",
              "  }\n",
              "\n",
              "  .colab-df-spinner {\n",
              "    border: 2px solid var(--fill-color);\n",
              "    border-color: transparent;\n",
              "    border-bottom-color: var(--fill-color);\n",
              "    animation:\n",
              "      spin 1s steps(1) infinite;\n",
              "  }\n",
              "\n",
              "  @keyframes spin {\n",
              "    0% {\n",
              "      border-color: transparent;\n",
              "      border-bottom-color: var(--fill-color);\n",
              "      border-left-color: var(--fill-color);\n",
              "    }\n",
              "    20% {\n",
              "      border-color: transparent;\n",
              "      border-left-color: var(--fill-color);\n",
              "      border-top-color: var(--fill-color);\n",
              "    }\n",
              "    30% {\n",
              "      border-color: transparent;\n",
              "      border-left-color: var(--fill-color);\n",
              "      border-top-color: var(--fill-color);\n",
              "      border-right-color: var(--fill-color);\n",
              "    }\n",
              "    40% {\n",
              "      border-color: transparent;\n",
              "      border-right-color: var(--fill-color);\n",
              "      border-top-color: var(--fill-color);\n",
              "    }\n",
              "    60% {\n",
              "      border-color: transparent;\n",
              "      border-right-color: var(--fill-color);\n",
              "    }\n",
              "    80% {\n",
              "      border-color: transparent;\n",
              "      border-right-color: var(--fill-color);\n",
              "      border-bottom-color: var(--fill-color);\n",
              "    }\n",
              "    90% {\n",
              "      border-color: transparent;\n",
              "      border-bottom-color: var(--fill-color);\n",
              "    }\n",
              "  }\n",
              "</style>\n",
              "\n",
              "  <script>\n",
              "    async function quickchart(key) {\n",
              "      const quickchartButtonEl =\n",
              "        document.querySelector('#' + key + ' button');\n",
              "      quickchartButtonEl.disabled = true;  // To prevent multiple clicks.\n",
              "      quickchartButtonEl.classList.add('colab-df-spinner');\n",
              "      try {\n",
              "        const charts = await google.colab.kernel.invokeFunction(\n",
              "            'suggestCharts', [key], {});\n",
              "      } catch (error) {\n",
              "        console.error('Error during call to suggestCharts:', error);\n",
              "      }\n",
              "      quickchartButtonEl.classList.remove('colab-df-spinner');\n",
              "      quickchartButtonEl.classList.add('colab-df-quickchart-complete');\n",
              "    }\n",
              "    (() => {\n",
              "      let quickchartButtonEl =\n",
              "        document.querySelector('#df-f6ad1c11-07ed-4b82-8d65-920e12137029 button');\n",
              "      quickchartButtonEl.style.display =\n",
              "        google.colab.kernel.accessAllowed ? 'block' : 'none';\n",
              "    })();\n",
              "  </script>\n",
              "</div>\n",
              "    </div>\n",
              "  </div>\n"
            ]
          },
          "metadata": {},
          "execution_count": 84
        }
      ]
    },
    {
      "cell_type": "markdown",
      "source": [
        "The sectors that have the highest predicted wages are Media, Accounting and Legal, Information Technology, Biotech & Pharmaceuticals"
      ],
      "metadata": {
        "id": "nLZn7GxtPh0w"
      },
      "id": "nLZn7GxtPh0w"
    },
    {
      "cell_type": "code",
      "source": [
        "y_hat = regression.predict(X_test)\n",
        "print('Rsq: ', regression.score(X_test,y_test)) # R2\n",
        "rmse = np.sqrt( np.mean( (y_test - y_hat)**2 ) )\n",
        "print('RMSE: ', rmse)"
      ],
      "metadata": {
        "colab": {
          "base_uri": "https://localhost:8080/"
        },
        "id": "jz6awkZYPb4l",
        "outputId": "0c7eee79-499f-494d-96a6-500598eeb910"
      },
      "id": "jz6awkZYPb4l",
      "execution_count": 85,
      "outputs": [
        {
          "output_type": "stream",
          "name": "stdout",
          "text": [
            "Rsq:  0.10786156021224103\n",
            "RMSE:  31.81255349338017\n"
          ]
        }
      ]
    },
    {
      "cell_type": "markdown",
      "source": [
        "3. Make a scatterplot of avg_salary and Rating. Is there an obvious visual relationship between the two variables? Regress avg_salary on Rating as a numeric variable: Do higher ratings predict higher or lower wages? Convert Rating to a one-hot encoded variable, with a category for each rating. Run a regression of avg_salary on the categorical version. How do your results change? Explain. Which version has a higher\n",
        " and lower RMSE?"
      ],
      "metadata": {
        "id": "ipKYC4GEP1nY"
      },
      "id": "ipKYC4GEP1nY"
    },
    {
      "cell_type": "code",
      "source": [
        "sns.scatterplot(data=df,x='Rating',y='avg_salary')"
      ],
      "metadata": {
        "colab": {
          "base_uri": "https://localhost:8080/",
          "height": 466
        },
        "id": "rWazJrpbP4AB",
        "outputId": "3fae376a-4284-4874-f309-0a72251fb05e"
      },
      "id": "rWazJrpbP4AB",
      "execution_count": 86,
      "outputs": [
        {
          "output_type": "execute_result",
          "data": {
            "text/plain": [
              "<Axes: xlabel='Rating', ylabel='avg_salary'>"
            ]
          },
          "metadata": {},
          "execution_count": 86
        },
        {
          "output_type": "display_data",
          "data": {
            "text/plain": [
              "<Figure size 640x480 with 1 Axes>"
            ],
            "image/png": "[encoded data removed]"
          },
          "metadata": {}
        }
      ]
    },
    {
      "cell_type": "markdown",
      "source": [
        "There is no visual relationship between the two variables."
      ],
      "metadata": {
        "id": "ZoRq3FzKP8jc"
      },
      "id": "ZoRq3FzKP8jc"
    },
    {
      "cell_type": "code",
      "source": [
        "X_train = df.loc[train_rows,['Intercept','Rating'] ]\n",
        "X_test = df.loc[test_rows,['Intercept','Rating'] ]\n",
        "\n",
        "reg = linear_model.LinearRegression(fit_intercept = False).fit(X_train, y_train)\n",
        "y_hat = reg.predict(X_test)\n",
        "print('Rsq: ', reg.score(X_test,y_test)) # R2\n",
        "rmse = np.sqrt( np.mean( (y_test - y_hat)**2 ) )\n",
        "print('RMSE: ', rmse, '\\n')\n",
        "\n",
        "print('Coefficient for Intercept:', reg.coef_[0])\n",
        "print('Coefficient for Rating:', reg.coef_[1])"
      ],
      "metadata": {
        "colab": {
          "base_uri": "https://localhost:8080/"
        },
        "id": "VJsLA-JSQEzx",
        "outputId": "badcab1c-bad7-4388-ce9f-110a97c5f98b"
      },
      "id": "VJsLA-JSQEzx",
      "execution_count": 87,
      "outputs": [
        {
          "output_type": "stream",
          "name": "stdout",
          "text": [
            "Rsq:  0.0012158997447975217\n",
            "RMSE:  33.660317944994524 \n",
            "\n",
            "Coefficient for Intercept: 65.85129074015462\n",
            "Coefficient for Rating: 9.46162749722274\n"
          ]
        }
      ]
    },
    {
      "cell_type": "markdown",
      "source": [
        "Higher ratings does predict a higher wage"
      ],
      "metadata": {
        "id": "W8XH18awR8q2"
      },
      "id": "W8XH18awR8q2"
    },
    {
      "cell_type": "code",
      "source": [
        "#one-hot encoded with cat for each rating\n",
        "df['Rating_rnd'] = df['Rating'].round()\n",
        "\n",
        "X_train = df.loc[train_rows,['Rating_rnd']]\n",
        "dummies_train = pd.get_dummies(X_train['Rating_rnd'],dtype=int)\n",
        "X_test = df.loc[test_rows,['Rating_rnd']]\n",
        "dummies_test = pd.get_dummies(X_test['Rating_rnd'],dtype=int)\n",
        "\n",
        "reg = linear_model.LinearRegression(fit_intercept = False).fit(dummies_train, y_train)\n",
        "y_hat = reg.predict(dummies_test)\n",
        "\n",
        "print('Rsq: ', reg.score(dummies_test,y_test)) # R2\n",
        "rmse = np.sqrt( np.mean( (y_test - y_hat)**2 ))\n",
        "print('RMSE: ', rmse)\n",
        "\n",
        "n=0\n",
        "\n",
        "for columns in dummies_train.columns:\n",
        "  print('variable:',columns, ' ', 'slope:', ' ', reg.coef_[n])\n",
        "  n = n + 1"
      ],
      "metadata": {
        "colab": {
          "base_uri": "https://localhost:8080/"
        },
        "id": "Xe8Nn7sDSAbe",
        "outputId": "c4ae2183-fe3b-4673-d0eb-ab8d91e47870"
      },
      "id": "Xe8Nn7sDSAbe",
      "execution_count": 88,
      "outputs": [
        {
          "output_type": "stream",
          "name": "stdout",
          "text": [
            "Rsq:  -0.003408188834975734\n",
            "RMSE:  33.73814685499916\n",
            "variable: 2.0   slope:   81.73529411764704\n",
            "variable: 3.0   slope:   95.05487804878048\n",
            "variable: 4.0   slope:   104.22752808988774\n",
            "variable: 5.0   slope:   102.45744680851065\n"
          ]
        }
      ]
    },
    {
      "cell_type": "markdown",
      "source": [
        "The result with the categorical variable end up with a rsq of less than 0 which is not ideal. The explanation for that is because when converting the dummy variables the fractions are not allowed since they're all now categorical variables. So this makes the model less accurate."
      ],
      "metadata": {
        "id": "w9_7prQ3yQII"
      },
      "id": "w9_7prQ3yQII"
    },
    {
      "cell_type": "markdown",
      "source": [
        "4. Now interact Sector with the categorical version of Rating, so your regressors are a (Sector, Rating) pair; this is a programming puzzle you'll have to think about, but using the .PolynomialFeatures() function on the one-hot encoded categorical variables is one option, and another is pre-processing a new variable that interacts Sector and Rating and then one-hot encoding the result. Regress avg_salary on the (Sector, Rating) pairs. How does the\n",
        "and RMSE on the test set compare to part 2? Interpret the coefficients; which sector-rating pairs have the highest wages?"
      ],
      "metadata": {
        "id": "S-sNKfKoyeIR"
      },
      "id": "S-sNKfKoyeIR"
    },
    {
      "cell_type": "code",
      "source": [
        "df['SxR'] = df.loc[:,'Sector'] + 'X' + df.loc[:,'Rating_rnd'].astype(str)\n",
        "dummies = pd.get_dummies(df.loc[:,'SxR'], dtype=int )\n",
        "\n",
        "dummies_train = dummies.iloc[train_rows,:]\n",
        "dummies_test = dummies.iloc[test_rows,:]\n",
        "\n",
        "reg = linear_model.LinearRegression(fit_intercept=False).fit(dummies_train,y_train)\n",
        "\n",
        "y_hat = reg.predict(dummies_test)\n",
        "print('Rsq: ', reg.score(dummies_test,y_test))\n",
        "rmse = np.sqrt( np.mean( (y_test - y_hat)**2 ))\n",
        "print('RMSE: ', rmse)"
      ],
      "metadata": {
        "colab": {
          "base_uri": "https://localhost:8080/"
        },
        "id": "WrlxQWuuylDW",
        "outputId": "85fc9ca8-6144-42ea-e24a-9e9f8b69521d"
      },
      "id": "WrlxQWuuylDW",
      "execution_count": 110,
      "outputs": [
        {
          "output_type": "stream",
          "name": "stdout",
          "text": [
            "Rsq:  0.23491600794936895\n",
            "RMSE:  29.46028618802498\n"
          ]
        }
      ]
    },
    {
      "cell_type": "markdown",
      "source": [
        "5. Run a linear regression of avg_salary on all the variables. What is the\n",
        " on the test set? How does it compare to your simpler models in 2--4?"
      ],
      "metadata": {
        "id": "WCyONKMHy0kd"
      },
      "id": "WCyONKMHy0kd"
    },
    {
      "cell_type": "code",
      "source": [
        "state_dummies = pd.get_dummies(df['job_state'],dtype=int)\n",
        "size_dummies = pd.get_dummies(df['Size'],dtype=int)\n",
        "sector_dummies = pd.get_dummies(df['Sector'],dtype=int)\n",
        "\n",
        "X_temp = df.loc[:, ['Intercept', 'Rating_rnd']]\n",
        "X = pd.concat([X_temp, state_dummies, size_dummies, sector_dummies], axis = 1)\n",
        "\n",
        "#split 20, 80 train & test\n",
        "X_train = X.iloc[train_rows,:]\n",
        "X_test = X.loc[test_rows,:]\n",
        "\n",
        "reg = linear_model.LinearRegression(fit_intercept=False).fit(X_train,y_train)\n",
        "\n",
        "print('Rsq: ', reg.score(X_test,y_test))\n",
        "y_hat = reg.predict(X_test)\n",
        "rmse = np.sqrt( np.mean( (y_test - y_hat)**2 ))\n",
        "print('RMSE: ', rmse)"
      ],
      "metadata": {
        "colab": {
          "base_uri": "https://localhost:8080/"
        },
        "id": "yVNMtJVcy2NR",
        "outputId": "08d1d75f-9cb7-482c-ae96-0b1bab6ab831"
      },
      "id": "yVNMtJVcy2NR",
      "execution_count": 89,
      "outputs": [
        {
          "output_type": "stream",
          "name": "stdout",
          "text": [
            "Rsq:  -1.2442154846884264e+19\n",
            "RMSE:  118803765200.25655\n"
          ]
        }
      ]
    },
    {
      "cell_type": "markdown",
      "source": [
        "The Rsq is -1.244 which is way worse than the models from 1-4"
      ],
      "metadata": {
        "id": "bn0t7kp17LSi"
      },
      "id": "bn0t7kp17LSi"
    },
    {
      "cell_type": "markdown",
      "source": [
        "6. Build a decision tree by regressing avg_salary on Sector, Rating, and the (Sector, Rating) pairs. What are the\n",
        " and RMSE of your models on the test set? How do your answers compare to parts 2, 3, and 4?"
      ],
      "metadata": {
        "id": "tGpXXm6_7RWi"
      },
      "id": "tGpXXm6_7RWi"
    },
    {
      "cell_type": "code",
      "source": [
        "from sklearn import tree\n",
        "\n",
        "#regress avg salary on sector\n",
        "dummies = pd.get_dummies(df.loc[:, 'Sector'], dtype = int)\n",
        "X_train = dummies.iloc[train_rows, :]\n",
        "X_test = dummies.iloc[test_rows, :]\n",
        "\n",
        "model = tree.DecisionTreeRegressor()\n",
        "cart = model.fit(X_train, y_train)\n",
        "y_hat = cart.predict(X_test)\n",
        "\n",
        "rsq = cart.score(X_test,y_test)\n",
        "rmse = np.sqrt( np.mean( (y_test - y_hat)**2 ))\n",
        "print('Regress Avg Salary on Sector\\n','Rsq: ', rsq,'RMSE: ', rmse, '\\n')\n",
        "\n",
        "\n",
        "#regress avg salary on Rating\n",
        "X_train = df.loc[train_rows,['Intercept','Rating'] ]\n",
        "X_test = df.loc[test_rows,['Intercept','Rating'] ]\n",
        "\n",
        "model = tree.DecisionTreeRegressor()\n",
        "cart = model.fit(X_train, y_train)\n",
        "y_hat = cart.predict(X_test)\n",
        "\n",
        "rsq = cart.score(X_test,y_test)\n",
        "rmse = np.sqrt( np.mean( (y_test - y_hat)**2 ))\n",
        "print('Regress Avg Salary on Rating\\n','Rsq: ', rsq,'RMSE: ', rmse, '\\n')\n",
        "\n",
        "\n",
        "#regress rating and sector as a pair\n",
        "df['SxR'] = df.loc[:,'Sector'] + 'X' + df.loc[:,'Rating_rnd'].astype(str)\n",
        "dummies = pd.get_dummies(df.loc[:,'SxR'], dtype=int )\n",
        "X_train = dummies.iloc[train_rows,:]\n",
        "X_test = dummies.iloc[test_rows,:]\n",
        "\n",
        "model = tree.DecisionTreeRegressor()\n",
        "cart = model.fit(X_train, y_train)\n",
        "y_hat = cart.predict(X_test)\n",
        "\n",
        "rsq = cart.score(X_test,y_test)\n",
        "rmse = np.sqrt( np.mean( (y_test - y_hat)**2 ))\n",
        "print('Regress Avg Salary on the Pair\\n','Rsq: ', rsq,'RMSE: ', rmse, '\\n')"
      ],
      "metadata": {
        "colab": {
          "base_uri": "https://localhost:8080/"
        },
        "id": "AOfU5av67T5Y",
        "outputId": "4f0473bb-1cfc-4570-d84d-6cb0b2175ade"
      },
      "id": "AOfU5av67T5Y",
      "execution_count": 104,
      "outputs": [
        {
          "output_type": "stream",
          "name": "stdout",
          "text": [
            "Regress Avg Salary on Sector\n",
            " Rsq:  0.1078615602122408 RMSE:  31.812553493380175 \n",
            "\n",
            "Regress Avg Salary on Rating\n",
            " Rsq:  -0.0038736868222599696 RMSE:  33.74597179533482 \n",
            "\n",
            "Regress Avg Salary on the Pair\n",
            " Rsq:  0.23491600794936895 RMSE:  29.46028618802498 \n",
            "\n"
          ]
        }
      ]
    },
    {
      "cell_type": "markdown",
      "source": [
        "7. Build a decision tree by regressing avg_salary on all the other variables. What is the"
      ],
      "metadata": {
        "id": "cWy3vMMi-kKS"
      },
      "id": "cWy3vMMi-kKS"
    },
    {
      "cell_type": "code",
      "source": [
        "#CatVar\n",
        "state_dummies = pd.get_dummies(df['job_state'], dtype = int)\n",
        "size_dummies = pd.get_dummies(df['Size'], dtype = int)\n",
        "sector_dummies = pd.get_dummies(df['Sector'], dtype = int)\n",
        "\n",
        "#NumVar\n",
        "X_num = df.loc[:, ['Intercept', 'Rating_rnd']]\n",
        "X = pd.concat([X_num, state_dummies, size_dummies, sector_dummies], axis = 1)\n",
        "\n",
        "#80&20 train and test\n",
        "X_train = X.iloc[train_rows, :]\n",
        "X_test = X.iloc[test_rows, :]\n",
        "\n",
        "model = tree.DecisionTreeRegressor()\n",
        "cart = model.fit(X_train, y_train)\n",
        "\n",
        "y_hat = cart.predict(X_test)\n",
        "rmse = np.sqrt( np.mean( (y_test - y_hat)**2 ))\n",
        "rsq = cart.score(X_test,y_test)\n",
        "\n",
        "print('Regress Avg Salary on All the Other Variables\\n','Rsq: ', rsq,'RMSE: ', rmse, '\\n')"
      ],
      "metadata": {
        "colab": {
          "base_uri": "https://localhost:8080/"
        },
        "id": "3ixclIKo-jux",
        "outputId": "8e158d52-c2c4-4819-c481-9ccabd07d7ef"
      },
      "id": "3ixclIKo-jux",
      "execution_count": 109,
      "outputs": [
        {
          "output_type": "stream",
          "name": "stdout",
          "text": [
            "Regress Avg Salary on All the Other Variables\n",
            " Rsq:  0.32624475488316607 RMSE:  27.64607509542367 \n",
            "\n"
          ]
        }
      ]
    }
  ],
  "metadata": {
    "kernelspec": {
      "display_name": "Python 3 (ipykernel)",
      "language": "python",
      "name": "python3"
    },
    "language_info": {
      "codemirror_mode": {
        "name": "ipython",
        "version": 3
      },
      "file_extension": ".py",
      "mimetype": "text/x-python",
      "name": "python",
      "nbconvert_exporter": "python",
      "pygments_lexer": "ipython3",
      "version": "3.11.4"
    },
    "colab": {
      "provenance": []
    }
  },
  "nbformat": 4,
  "nbformat_minor": 5
}